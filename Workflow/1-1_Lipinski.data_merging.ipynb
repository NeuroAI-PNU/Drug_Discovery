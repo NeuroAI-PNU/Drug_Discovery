{
 "cells": [
  {
   "cell_type": "code",
   "execution_count": null,
   "id": "32774cc0",
   "metadata": {
    "vscode": {
     "languageId": "plaintext"
    }
   },
   "outputs": [],
   "source": [
    "import numpy as np\n",
    "from rdkit import Chem\n",
    "from rdkit.Chem import Descriptors, Lipinski"
   ]
  },
  {
   "cell_type": "code",
   "execution_count": null,
   "id": "a5ef31bb",
   "metadata": {
    "vscode": {
     "languageId": "plaintext"
    }
   },
   "outputs": [],
   "source": [
    "# 1_lipinski.py를 통해 아래 데이터 구축 완료\n",
    "\n",
    "import pandas as pd\n",
    "data_Mt = pd.read_csv(\"Molecular_Weight.csv\", encoding=\"UTF-8\", usecols=[\"smiles\", \"zinc_id\", \"MolWt\"])\n",
    "data_LogP = pd.read_csv(\"LogP.csv\", encoding=\"UTF-8\", usecols=[\"LogP\"])\n",
    "data_HD = pd.read_csv(\"HDonors.csv\", encoding=\"UTF-8\", usecols=[\"HDonors\"])\n",
    "data_HA = pd.read_csv(\"HAcceptors.csv\", encoding=\"UTF-8\", usecols=[\"HAcceptors\"])"
   ]
  },
  {
   "cell_type": "code",
   "execution_count": null,
   "id": "b9f16e6c",
   "metadata": {
    "vscode": {
     "languageId": "plaintext"
    }
   },
   "outputs": [],
   "source": [
    "lipinski_data = pd.concat([data_Mt, data_LogP, data_HD, data_HA], axis=1)\n",
    "lipinski_data"
   ]
  },
  {
   "cell_type": "code",
   "execution_count": null,
   "id": "e982561d",
   "metadata": {
    "vscode": {
     "languageId": "plaintext"
    }
   },
   "outputs": [],
   "source": [
    "invalid_MolWt = lipinski_data[lipinski_data[\"MolWt\"] > 500].index\n",
    "lipinski_data.drop(invalid_MolWt, inplace=True)\n",
    "lipinski_data"
   ]
  },
  {
   "cell_type": "code",
   "execution_count": null,
   "id": "353f9d28",
   "metadata": {
    "vscode": {
     "languageId": "plaintext"
    }
   },
   "outputs": [],
   "source": [
    "lipinski_data = lipinski_data.reset_index(drop=True)\n",
    "lipinski_data"
   ]
  },
  {
   "cell_type": "code",
   "execution_count": null,
   "id": "f717be26",
   "metadata": {
    "vscode": {
     "languageId": "plaintext"
    }
   },
   "outputs": [],
   "source": [
    "invalid_MolWt = lipinski_data[lipinski_data[\"LogP\"] > 5].index\n",
    "lipinski_data.drop(invalid_MolWt, inplace=True)\n",
    "lipinski_data"
   ]
  },
  {
   "cell_type": "code",
   "execution_count": null,
   "id": "ef1291fe",
   "metadata": {
    "vscode": {
     "languageId": "plaintext"
    }
   },
   "outputs": [],
   "source": [
    "lipinski_data = lipinski_data.reset_index(drop=True)\n",
    "lipinski_data"
   ]
  },
  {
   "cell_type": "code",
   "execution_count": null,
   "id": "78e43ee4",
   "metadata": {
    "vscode": {
     "languageId": "plaintext"
    }
   },
   "outputs": [],
   "source": [
    "invalid_MolWt = lipinski_data[lipinski_data[\"HDonors\"] > 5].index\n",
    "lipinski_data.drop(invalid_MolWt, inplace=True)\n",
    "lipinski_data"
   ]
  },
  {
   "cell_type": "code",
   "execution_count": null,
   "id": "1b5a03ce",
   "metadata": {
    "vscode": {
     "languageId": "plaintext"
    }
   },
   "outputs": [],
   "source": [
    "lipinski_data = lipinski_data.reset_index(drop=True)\n",
    "lipinski_data"
   ]
  },
  {
   "cell_type": "code",
   "execution_count": null,
   "id": "e3f5f5c9",
   "metadata": {
    "vscode": {
     "languageId": "plaintext"
    }
   },
   "outputs": [],
   "source": [
    "invalid_MolWt = lipinski_data[lipinski_data[\"HAcceptors\"] > 10].index\n",
    "lipinski_data.drop(invalid_MolWt, inplace=True)\n",
    "lipinski_data"
   ]
  },
  {
   "cell_type": "code",
   "execution_count": null,
   "id": "423b30dd",
   "metadata": {
    "vscode": {
     "languageId": "plaintext"
    }
   },
   "outputs": [],
   "source": [
    "lipinski_data = lipinski_data.reset_index(drop=True)\n",
    "lipinski_data"
   ]
  },
  {
   "cell_type": "code",
   "execution_count": null,
   "id": "69119b70",
   "metadata": {
    "vscode": {
     "languageId": "plaintext"
    }
   },
   "outputs": [],
   "source": [
    "rowdata = pd.concat([data_Mt, data_LogP, data_HD, data_HA], axis=1)\n",
    "a = print(len(rowdata))\n",
    "b = print(len(lipinski_data))\n",
    "c = len(rowdata) - len(lipinski_data)\n",
    "print(c)"
   ]
  },
  {
   "cell_type": "code",
   "execution_count": null,
   "id": "3e09b65e",
   "metadata": {
    "vscode": {
     "languageId": "plaintext"
    }
   },
   "outputs": [],
   "source": [
    "# lipinski filtering 전 10725143개\n",
    "# filtering 후 10703772개\n",
    "# 21371개가 lipinski five rule에 의해 제거됨"
   ]
  },
  {
   "cell_type": "code",
   "execution_count": null,
   "id": "5e7e7018",
   "metadata": {
    "vscode": {
     "languageId": "plaintext"
    }
   },
   "outputs": [],
   "source": [
    "lipinski_data.to_csv(\"lipinski_data.csv\")"
   ]
  }
 ],
 "metadata": {
  "language_info": {
   "name": "python"
  }
 },
 "nbformat": 4,
 "nbformat_minor": 5
}
