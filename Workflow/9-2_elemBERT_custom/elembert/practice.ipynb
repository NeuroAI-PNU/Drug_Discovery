{
 "cells": [
  {
   "cell_type": "code",
   "execution_count": 1,
   "metadata": {},
   "outputs": [],
   "source": [
    "import pickle"
   ]
  },
  {
   "cell_type": "code",
   "execution_count": 2,
   "metadata": {},
   "outputs": [],
   "source": [
    "with open(\"./custom_data_nr-ar_results.pkl\", \"rb\") as a:\n",
    "    data1 = pickle.load(a)"
   ]
  },
  {
   "cell_type": "code",
   "execution_count": 4,
   "metadata": {},
   "outputs": [],
   "source": [
    "with open(\"./custom_data_nr-ar-lbd_results.pkl\", \"rb\") as b:\n",
    "    data2 = pickle.load(b)"
   ]
  },
  {
   "cell_type": "code",
   "execution_count": 5,
   "metadata": {},
   "outputs": [],
   "source": [
    "with open(\"./custom_data_nr-ahr_results.pkl\", \"rb\") as c:\n",
    "    data3 = pickle.load(c)"
   ]
  },
  {
   "cell_type": "code",
   "execution_count": 6,
   "metadata": {},
   "outputs": [],
   "source": [
    "with open(\"./custom_data_nr-aromatase_results.pkl\", \"rb\") as d:\n",
    "    data4 = pickle.load(d)"
   ]
  },
  {
   "cell_type": "code",
   "execution_count": 7,
   "metadata": {},
   "outputs": [],
   "source": [
    "with open(\"./custom_data_nr-er_results.pkl\", \"rb\") as e:\n",
    "    data5 = pickle.load(e)"
   ]
  },
  {
   "cell_type": "code",
   "execution_count": 8,
   "metadata": {},
   "outputs": [],
   "source": [
    "with open(\"./custom_data_nr-er-lbd_results.pkl\", \"rb\") as f:\n",
    "    data6 = pickle.load(f)"
   ]
  },
  {
   "cell_type": "code",
   "execution_count": 9,
   "metadata": {},
   "outputs": [],
   "source": [
    "with open(\"./custom_data_nr-ppar-gamma_results.pkl\", \"rb\") as g:\n",
    "    data7 = pickle.load(g)"
   ]
  },
  {
   "cell_type": "code",
   "execution_count": 10,
   "metadata": {},
   "outputs": [],
   "source": [
    "with open(\"./custom_data_sr-are_results.pkl\", \"rb\") as h:\n",
    "    data8 = pickle.load(h)"
   ]
  },
  {
   "cell_type": "code",
   "execution_count": 11,
   "metadata": {},
   "outputs": [],
   "source": [
    "with open(\"./custom_data_sr-atad5_results.pkl\", \"rb\") as i:\n",
    "    data9 = pickle.load(i)"
   ]
  },
  {
   "cell_type": "code",
   "execution_count": 12,
   "metadata": {},
   "outputs": [],
   "source": [
    "with open(\"./custom_data_sr-hse_results.pkl\", \"rb\") as i:\n",
    "    data10 = pickle.load(i)"
   ]
  },
  {
   "cell_type": "code",
   "execution_count": 13,
   "metadata": {},
   "outputs": [],
   "source": [
    "with open(\"./custom_data_sr-mmp_results.pkl\", \"rb\") as i:\n",
    "    data11 = pickle.load(i)"
   ]
  },
  {
   "cell_type": "code",
   "execution_count": 14,
   "metadata": {},
   "outputs": [],
   "source": [
    "with open(\"./custom_data_sr-p53_results.pkl\", \"rb\") as i:\n",
    "    data12 = pickle.load(i)"
   ]
  },
  {
   "cell_type": "code",
   "execution_count": 2,
   "metadata": {},
   "outputs": [],
   "source": [
    "import pickle\n",
    "\n",
    "with open(\"./custom_data_with_ZN27_nr-ar_results.pkl\", \"rb\") as a:\n",
    "    data1 = pickle.load(a)\n",
    "\n",
    "with open(\"./custom_data_with_ZN27_nr-ar-lbd_results.pkl\", \"rb\") as b:\n",
    "    data2 = pickle.load(b)\n",
    "\n",
    "with open(\"./custom_data_with_ZN27_nr-ahr_results.pkl\", \"rb\") as c:\n",
    "    data3 = pickle.load(c)\n",
    "\n",
    "with open(\"./custom_data_with_ZN27_nr-aromatase_results.pkl\", \"rb\") as d:\n",
    "    data4 = pickle.load(d)\n",
    "\n",
    "with open(\"./custom_data_with_ZN27_nr-er_results.pkl\", \"rb\") as e:\n",
    "    data5 = pickle.load(e)\n",
    "\n",
    "with open(\"./custom_data_with_ZN27_nr-er-lbd_results.pkl\", \"rb\") as f:\n",
    "    data6 = pickle.load(f)\n",
    "\n",
    "with open(\"./custom_data_with_ZN27_nr-ppar-gamma_results.pkl\", \"rb\") as g:\n",
    "    data7 = pickle.load(g)\n",
    "\n",
    "with open(\"./custom_data_with_ZN27_sr-are_results.pkl\", \"rb\") as h:\n",
    "    data8 = pickle.load(h)\n",
    "\n",
    "with open(\"./custom_data_with_ZN27_sr-atad5_results.pkl\", \"rb\") as i:\n",
    "    data9 = pickle.load(i)\n",
    "\n",
    "with open(\"./custom_data_with_ZN27_sr-hse_results.pkl\", \"rb\") as j:\n",
    "    data10 = pickle.load(j)\n",
    "\n",
    "with open(\"./custom_data_with_ZN27_sr-mmp_results.pkl\", \"rb\") as k:\n",
    "    data11 = pickle.load(k)\n",
    "\n",
    "with open(\"./custom_data_with_ZN27_sr-p53_results.pkl\", \"rb\") as l:\n",
    "    data12 = pickle.load(l)"
   ]
  },
  {
   "cell_type": "code",
   "execution_count": 15,
   "metadata": {},
   "outputs": [
    {
     "data": {
      "text/plain": [
       "43"
      ]
     },
     "execution_count": 15,
     "metadata": {},
     "output_type": "execute_result"
    }
   ],
   "source": [
    "len(data1[\"pred_cls\"])"
   ]
  },
  {
   "cell_type": "code",
   "execution_count": 16,
   "metadata": {},
   "outputs": [
    {
     "data": {
      "text/plain": [
       "array([0.9749009 , 0.02509914], dtype=float32)"
      ]
     },
     "execution_count": 16,
     "metadata": {},
     "output_type": "execute_result"
    }
   ],
   "source": [
    "data1[\"pred_cls\"][0]"
   ]
  },
  {
   "cell_type": "code",
   "execution_count": 17,
   "metadata": {},
   "outputs": [
    {
     "data": {
      "text/plain": [
       "0.9749009"
      ]
     },
     "execution_count": 17,
     "metadata": {},
     "output_type": "execute_result"
    }
   ],
   "source": [
    "data1[\"pred_cls\"][0][0]"
   ]
  },
  {
   "cell_type": "code",
   "execution_count": 18,
   "metadata": {},
   "outputs": [
    {
     "name": "stdout",
     "output_type": "stream",
     "text": [
      "43\n",
      "43\n"
     ]
    }
   ],
   "source": [
    "print(len(data1[\"pred_cls\"]))\n",
    "data1_list = []\n",
    "for i in range(len(data1[\"pred_cls\"])):\n",
    "    for x in range(len(data1[\"pred_cls\"][i])):\n",
    "        if x == 0:\n",
    "            data1_list.append(data1[\"pred_cls\"][i][x])\n",
    "print(len(data1_list))"
   ]
  },
  {
   "cell_type": "code",
   "execution_count": 19,
   "metadata": {},
   "outputs": [
    {
     "name": "stdout",
     "output_type": "stream",
     "text": [
      "43\n",
      "43\n"
     ]
    }
   ],
   "source": [
    "print(len(data2[\"pred_cls\"]))\n",
    "data2_list = []\n",
    "for i in range(len(data2[\"pred_cls\"])):\n",
    "    for x in range(len(data2[\"pred_cls\"][i])):\n",
    "        if x == 0:\n",
    "            data2_list.append(data2[\"pred_cls\"][i][x])\n",
    "print(len(data2_list))"
   ]
  },
  {
   "cell_type": "code",
   "execution_count": 20,
   "metadata": {},
   "outputs": [
    {
     "name": "stdout",
     "output_type": "stream",
     "text": [
      "43\n",
      "43\n"
     ]
    }
   ],
   "source": [
    "print(len(data3[\"pred_cls\"]))\n",
    "data3_list = []\n",
    "for i in range(len(data3[\"pred_cls\"])):\n",
    "    for x in range(len(data3[\"pred_cls\"][i])):\n",
    "        if x == 0:\n",
    "            data3_list.append(data3[\"pred_cls\"][i][x])\n",
    "print(len(data3_list))"
   ]
  },
  {
   "cell_type": "code",
   "execution_count": 21,
   "metadata": {},
   "outputs": [
    {
     "name": "stdout",
     "output_type": "stream",
     "text": [
      "43\n",
      "43\n"
     ]
    }
   ],
   "source": [
    "print(len(data4[\"pred_cls\"]))\n",
    "data4_list = []\n",
    "for i in range(len(data4[\"pred_cls\"])):\n",
    "    for x in range(len(data4[\"pred_cls\"][i])):\n",
    "        if x == 0:\n",
    "            data4_list.append(data4[\"pred_cls\"][i][x])\n",
    "print(len(data4_list))"
   ]
  },
  {
   "cell_type": "code",
   "execution_count": 22,
   "metadata": {},
   "outputs": [
    {
     "name": "stdout",
     "output_type": "stream",
     "text": [
      "43\n",
      "43\n"
     ]
    }
   ],
   "source": [
    "print(len(data5[\"pred_cls\"]))\n",
    "data5_list = []\n",
    "for i in range(len(data5[\"pred_cls\"])):\n",
    "    for x in range(len(data5[\"pred_cls\"][i])):\n",
    "        if x == 0:\n",
    "            data5_list.append(data5[\"pred_cls\"][i][x])\n",
    "print(len(data5_list))"
   ]
  },
  {
   "cell_type": "code",
   "execution_count": 23,
   "metadata": {},
   "outputs": [
    {
     "name": "stdout",
     "output_type": "stream",
     "text": [
      "43\n",
      "43\n"
     ]
    }
   ],
   "source": [
    "print(len(data6[\"pred_cls\"]))\n",
    "data6_list = []\n",
    "for i in range(len(data6[\"pred_cls\"])):\n",
    "    for x in range(len(data6[\"pred_cls\"][i])):\n",
    "        if x == 0:\n",
    "            data6_list.append(data6[\"pred_cls\"][i][x])\n",
    "print(len(data6_list))"
   ]
  },
  {
   "cell_type": "code",
   "execution_count": 24,
   "metadata": {},
   "outputs": [
    {
     "name": "stdout",
     "output_type": "stream",
     "text": [
      "43\n",
      "43\n"
     ]
    }
   ],
   "source": [
    "print(len(data7[\"pred_cls\"]))\n",
    "data7_list = []\n",
    "for i in range(len(data7[\"pred_cls\"])):\n",
    "    for x in range(len(data7[\"pred_cls\"][i])):\n",
    "        if x == 0:\n",
    "            data7_list.append(data7[\"pred_cls\"][i][x])\n",
    "print(len(data7_list))"
   ]
  },
  {
   "cell_type": "code",
   "execution_count": 25,
   "metadata": {},
   "outputs": [
    {
     "name": "stdout",
     "output_type": "stream",
     "text": [
      "43\n",
      "43\n"
     ]
    }
   ],
   "source": [
    "print(len(data8[\"pred_cls\"]))\n",
    "data8_list = []\n",
    "for i in range(len(data8[\"pred_cls\"])):\n",
    "    for x in range(len(data8[\"pred_cls\"][i])):\n",
    "        if x == 0:\n",
    "            data8_list.append(data8[\"pred_cls\"][i][x])\n",
    "print(len(data8_list))"
   ]
  },
  {
   "cell_type": "code",
   "execution_count": 26,
   "metadata": {},
   "outputs": [
    {
     "name": "stdout",
     "output_type": "stream",
     "text": [
      "43\n",
      "43\n"
     ]
    }
   ],
   "source": [
    "print(len(data9[\"pred_cls\"]))\n",
    "data9_list = []\n",
    "for i in range(len(data9[\"pred_cls\"])):\n",
    "    for x in range(len(data9[\"pred_cls\"][i])):\n",
    "        if x == 0:\n",
    "            data9_list.append(data9[\"pred_cls\"][i][x])\n",
    "print(len(data9_list))"
   ]
  },
  {
   "cell_type": "code",
   "execution_count": 27,
   "metadata": {},
   "outputs": [
    {
     "name": "stdout",
     "output_type": "stream",
     "text": [
      "43\n",
      "43\n"
     ]
    }
   ],
   "source": [
    "print(len(data10[\"pred_cls\"]))\n",
    "data10_list = []\n",
    "for i in range(len(data10[\"pred_cls\"])):\n",
    "    for x in range(len(data10[\"pred_cls\"][i])):\n",
    "        if x == 0:\n",
    "            data10_list.append(data10[\"pred_cls\"][i][x])\n",
    "print(len(data10_list))"
   ]
  },
  {
   "cell_type": "code",
   "execution_count": 28,
   "metadata": {},
   "outputs": [
    {
     "name": "stdout",
     "output_type": "stream",
     "text": [
      "43\n",
      "43\n"
     ]
    }
   ],
   "source": [
    "print(len(data11[\"pred_cls\"]))\n",
    "data11_list = []\n",
    "for i in range(len(data11[\"pred_cls\"])):\n",
    "    for x in range(len(data11[\"pred_cls\"][i])):\n",
    "        if x == 0:\n",
    "            data11_list.append(data11[\"pred_cls\"][i][x])\n",
    "print(len(data11_list))"
   ]
  },
  {
   "cell_type": "code",
   "execution_count": 29,
   "metadata": {},
   "outputs": [
    {
     "name": "stdout",
     "output_type": "stream",
     "text": [
      "43\n",
      "43\n"
     ]
    }
   ],
   "source": [
    "print(len(data12[\"pred_cls\"]))\n",
    "data12_list = []\n",
    "for i in range(len(data12[\"pred_cls\"])):\n",
    "    for x in range(len(data12[\"pred_cls\"][i])):\n",
    "        if x == 0:\n",
    "            data12_list.append(data12[\"pred_cls\"][i][x])\n",
    "print(len(data12_list))"
   ]
  },
  {
   "cell_type": "code",
   "execution_count": 30,
   "metadata": {},
   "outputs": [],
   "source": [
    "def parsing(list_data):\n",
    "\n",
    "    list_1 = []\n",
    "    list_2 = []\n",
    "    list_3 = []\n",
    "    list_4 = []\n",
    "    list_5 = []\n",
    "    list_6 = []\n",
    "    list_7 = []\n",
    "    list_8 = []\n",
    "    list_9 = []\n",
    "    list_10 = []\n",
    "\n",
    "    for x in list_data:\n",
    "        if 0.9 < x <= 1:\n",
    "            list_1.append(x)\n",
    "        elif 0.8 < x <= 0.9:\n",
    "            list_2.append(x)\n",
    "        elif 0.7 < x <= 0.8:\n",
    "            list_3.append(x)\n",
    "        elif 0.6 < x <= 0.7:\n",
    "            list_4.append(x)\n",
    "        elif 0.5 < x <= 0.6:\n",
    "            list_5.append(x)\n",
    "        elif 0.4 < x <= 0.5:\n",
    "            list_6.append(x)\n",
    "        elif 0.3 < x <= 0.4:\n",
    "            list_7.append(x)\n",
    "        elif 0.2 < x <= 0.3:\n",
    "            list_8.append(x)\n",
    "        elif 0.1 < x <= 0.2:\n",
    "            list_9.append(x)\n",
    "        elif 0 <= x <= 0.1:\n",
    "            list_10.append(x)\n",
    "    \n",
    "    print(len(list_1))\n",
    "    print(len(list_2))\n",
    "    print(len(list_3))\n",
    "    print(len(list_4))\n",
    "    print(len(list_5))\n",
    "    print(len(list_6))\n",
    "    print(len(list_7))\n",
    "    print(len(list_8))\n",
    "    print(len(list_9))\n",
    "    print(len(list_10))\n",
    "    print(len(list_1) + len(list_2) + len(list_3) + len(list_4) + len(list_5) + len(list_6) + len(list_7) + len(list_8) + len(list_9) + len(list_10))"
   ]
  },
  {
   "cell_type": "code",
   "execution_count": 31,
   "metadata": {},
   "outputs": [
    {
     "name": "stdout",
     "output_type": "stream",
     "text": [
      "43\n",
      "0\n",
      "0\n",
      "0\n",
      "0\n",
      "0\n",
      "0\n",
      "0\n",
      "0\n",
      "0\n",
      "43\n"
     ]
    }
   ],
   "source": [
    "parsing(data1_list)"
   ]
  },
  {
   "cell_type": "code",
   "execution_count": 32,
   "metadata": {},
   "outputs": [
    {
     "name": "stdout",
     "output_type": "stream",
     "text": [
      "42\n",
      "1\n",
      "0\n",
      "0\n",
      "0\n",
      "0\n",
      "0\n",
      "0\n",
      "0\n",
      "0\n",
      "43\n"
     ]
    }
   ],
   "source": [
    "parsing(data2_list)"
   ]
  },
  {
   "cell_type": "code",
   "execution_count": 33,
   "metadata": {},
   "outputs": [
    {
     "name": "stdout",
     "output_type": "stream",
     "text": [
      "13\n",
      "7\n",
      "8\n",
      "2\n",
      "0\n",
      "2\n",
      "2\n",
      "2\n",
      "2\n",
      "5\n",
      "43\n"
     ]
    }
   ],
   "source": [
    "parsing(data3_list)"
   ]
  },
  {
   "cell_type": "code",
   "execution_count": 34,
   "metadata": {},
   "outputs": [
    {
     "name": "stdout",
     "output_type": "stream",
     "text": [
      "27\n",
      "12\n",
      "4\n",
      "0\n",
      "0\n",
      "0\n",
      "0\n",
      "0\n",
      "0\n",
      "0\n",
      "43\n"
     ]
    }
   ],
   "source": [
    "parsing(data4_list)"
   ]
  },
  {
   "cell_type": "code",
   "execution_count": 35,
   "metadata": {},
   "outputs": [
    {
     "name": "stdout",
     "output_type": "stream",
     "text": [
      "37\n",
      "4\n",
      "1\n",
      "0\n",
      "0\n",
      "0\n",
      "0\n",
      "1\n",
      "0\n",
      "0\n",
      "43\n"
     ]
    }
   ],
   "source": [
    "parsing(data5_list)"
   ]
  },
  {
   "cell_type": "code",
   "execution_count": 36,
   "metadata": {},
   "outputs": [
    {
     "name": "stdout",
     "output_type": "stream",
     "text": [
      "43\n",
      "0\n",
      "0\n",
      "0\n",
      "0\n",
      "0\n",
      "0\n",
      "0\n",
      "0\n",
      "0\n",
      "43\n"
     ]
    }
   ],
   "source": [
    "parsing(data6_list)"
   ]
  },
  {
   "cell_type": "code",
   "execution_count": 37,
   "metadata": {},
   "outputs": [
    {
     "name": "stdout",
     "output_type": "stream",
     "text": [
      "39\n",
      "1\n",
      "0\n",
      "0\n",
      "0\n",
      "2\n",
      "1\n",
      "0\n",
      "0\n",
      "0\n",
      "43\n"
     ]
    }
   ],
   "source": [
    "parsing(data7_list)"
   ]
  },
  {
   "cell_type": "code",
   "execution_count": 38,
   "metadata": {},
   "outputs": [
    {
     "name": "stdout",
     "output_type": "stream",
     "text": [
      "18\n",
      "7\n",
      "8\n",
      "2\n",
      "4\n",
      "0\n",
      "2\n",
      "1\n",
      "0\n",
      "1\n",
      "43\n"
     ]
    }
   ],
   "source": [
    "parsing(data8_list)"
   ]
  },
  {
   "cell_type": "code",
   "execution_count": 39,
   "metadata": {},
   "outputs": [
    {
     "name": "stdout",
     "output_type": "stream",
     "text": [
      "35\n",
      "5\n",
      "1\n",
      "1\n",
      "0\n",
      "0\n",
      "1\n",
      "0\n",
      "0\n",
      "0\n",
      "43\n"
     ]
    }
   ],
   "source": [
    "parsing(data9_list)"
   ]
  },
  {
   "cell_type": "code",
   "execution_count": 40,
   "metadata": {},
   "outputs": [
    {
     "name": "stdout",
     "output_type": "stream",
     "text": [
      "41\n",
      "2\n",
      "0\n",
      "0\n",
      "0\n",
      "0\n",
      "0\n",
      "0\n",
      "0\n",
      "0\n",
      "43\n"
     ]
    }
   ],
   "source": [
    "parsing(data10_list)"
   ]
  },
  {
   "cell_type": "code",
   "execution_count": 41,
   "metadata": {},
   "outputs": [
    {
     "name": "stdout",
     "output_type": "stream",
     "text": [
      "29\n",
      "3\n",
      "0\n",
      "2\n",
      "2\n",
      "1\n",
      "0\n",
      "0\n",
      "4\n",
      "2\n",
      "43\n"
     ]
    }
   ],
   "source": [
    "parsing(data11_list)"
   ]
  },
  {
   "cell_type": "code",
   "execution_count": 42,
   "metadata": {},
   "outputs": [
    {
     "name": "stdout",
     "output_type": "stream",
     "text": [
      "33\n",
      "6\n",
      "1\n",
      "1\n",
      "0\n",
      "2\n",
      "0\n",
      "0\n",
      "0\n",
      "0\n",
      "43\n"
     ]
    }
   ],
   "source": [
    "parsing(data12_list)"
   ]
  },
  {
   "cell_type": "code",
   "execution_count": 43,
   "metadata": {},
   "outputs": [],
   "source": [
    "import pandas as pd"
   ]
  },
  {
   "cell_type": "code",
   "execution_count": 44,
   "metadata": {},
   "outputs": [],
   "source": [
    "final_elemBERT_results = pd.DataFrame(zip(data1_list, data2_list, data3_list, data4_list, data5_list, data6_list, data7_list, data8_list, data9_list, data10_list, data11_list, data12_list), columns = [\"nr-ar\", \"nr-ar-lbd\", \"nr-ahr\", \"nr-aromatase\", \"nr-er\", \"nr-er-lbd\", \"nr-ppar-gamma\", \"sr-are\", \"sr-atad5\", \"sr-hse\", \"sr-mmp\", \"sr-p53\"])"
   ]
  },
  {
   "cell_type": "code",
   "execution_count": 45,
   "metadata": {},
   "outputs": [
    {
     "data": {
      "text/html": [
       "<div>\n",
       "<style scoped>\n",
       "    .dataframe tbody tr th:only-of-type {\n",
       "        vertical-align: middle;\n",
       "    }\n",
       "\n",
       "    .dataframe tbody tr th {\n",
       "        vertical-align: top;\n",
       "    }\n",
       "\n",
       "    .dataframe thead th {\n",
       "        text-align: right;\n",
       "    }\n",
       "</style>\n",
       "<table border=\"1\" class=\"dataframe\">\n",
       "  <thead>\n",
       "    <tr style=\"text-align: right;\">\n",
       "      <th></th>\n",
       "      <th>nr-ar</th>\n",
       "      <th>nr-ar-lbd</th>\n",
       "      <th>nr-ahr</th>\n",
       "      <th>nr-aromatase</th>\n",
       "      <th>nr-er</th>\n",
       "      <th>nr-er-lbd</th>\n",
       "      <th>nr-ppar-gamma</th>\n",
       "      <th>sr-are</th>\n",
       "      <th>sr-atad5</th>\n",
       "      <th>sr-hse</th>\n",
       "      <th>sr-mmp</th>\n",
       "      <th>sr-p53</th>\n",
       "    </tr>\n",
       "  </thead>\n",
       "  <tbody>\n",
       "    <tr>\n",
       "      <th>0</th>\n",
       "      <td>0.974901</td>\n",
       "      <td>0.982013</td>\n",
       "      <td>0.061217</td>\n",
       "      <td>0.968801</td>\n",
       "      <td>0.996271</td>\n",
       "      <td>0.992347</td>\n",
       "      <td>0.999431</td>\n",
       "      <td>0.985825</td>\n",
       "      <td>0.991887</td>\n",
       "      <td>0.999384</td>\n",
       "      <td>0.980799</td>\n",
       "      <td>0.948926</td>\n",
       "    </tr>\n",
       "    <tr>\n",
       "      <th>1</th>\n",
       "      <td>0.976566</td>\n",
       "      <td>0.996302</td>\n",
       "      <td>0.089791</td>\n",
       "      <td>0.714170</td>\n",
       "      <td>0.947435</td>\n",
       "      <td>0.999913</td>\n",
       "      <td>0.999401</td>\n",
       "      <td>0.819958</td>\n",
       "      <td>0.992191</td>\n",
       "      <td>0.995693</td>\n",
       "      <td>0.987325</td>\n",
       "      <td>0.952360</td>\n",
       "    </tr>\n",
       "    <tr>\n",
       "      <th>2</th>\n",
       "      <td>0.995009</td>\n",
       "      <td>0.996950</td>\n",
       "      <td>0.992911</td>\n",
       "      <td>0.905057</td>\n",
       "      <td>0.998801</td>\n",
       "      <td>0.999852</td>\n",
       "      <td>0.979812</td>\n",
       "      <td>0.513679</td>\n",
       "      <td>0.896153</td>\n",
       "      <td>0.990153</td>\n",
       "      <td>0.838972</td>\n",
       "      <td>0.995862</td>\n",
       "    </tr>\n",
       "    <tr>\n",
       "      <th>3</th>\n",
       "      <td>0.987652</td>\n",
       "      <td>0.994409</td>\n",
       "      <td>0.667116</td>\n",
       "      <td>0.842116</td>\n",
       "      <td>0.972644</td>\n",
       "      <td>0.999911</td>\n",
       "      <td>0.998458</td>\n",
       "      <td>0.867404</td>\n",
       "      <td>0.840366</td>\n",
       "      <td>0.997489</td>\n",
       "      <td>0.995519</td>\n",
       "      <td>0.934092</td>\n",
       "    </tr>\n",
       "    <tr>\n",
       "      <th>4</th>\n",
       "      <td>0.998888</td>\n",
       "      <td>0.995118</td>\n",
       "      <td>0.898902</td>\n",
       "      <td>0.985073</td>\n",
       "      <td>0.994146</td>\n",
       "      <td>0.999936</td>\n",
       "      <td>0.999566</td>\n",
       "      <td>0.986587</td>\n",
       "      <td>0.977269</td>\n",
       "      <td>0.961019</td>\n",
       "      <td>0.980918</td>\n",
       "      <td>0.937024</td>\n",
       "    </tr>\n",
       "  </tbody>\n",
       "</table>\n",
       "</div>"
      ],
      "text/plain": [
       "      nr-ar  nr-ar-lbd    nr-ahr  nr-aromatase     nr-er  nr-er-lbd  \\\n",
       "0  0.974901   0.982013  0.061217      0.968801  0.996271   0.992347   \n",
       "1  0.976566   0.996302  0.089791      0.714170  0.947435   0.999913   \n",
       "2  0.995009   0.996950  0.992911      0.905057  0.998801   0.999852   \n",
       "3  0.987652   0.994409  0.667116      0.842116  0.972644   0.999911   \n",
       "4  0.998888   0.995118  0.898902      0.985073  0.994146   0.999936   \n",
       "\n",
       "   nr-ppar-gamma    sr-are  sr-atad5    sr-hse    sr-mmp    sr-p53  \n",
       "0       0.999431  0.985825  0.991887  0.999384  0.980799  0.948926  \n",
       "1       0.999401  0.819958  0.992191  0.995693  0.987325  0.952360  \n",
       "2       0.979812  0.513679  0.896153  0.990153  0.838972  0.995862  \n",
       "3       0.998458  0.867404  0.840366  0.997489  0.995519  0.934092  \n",
       "4       0.999566  0.986587  0.977269  0.961019  0.980918  0.937024  "
      ]
     },
     "execution_count": 45,
     "metadata": {},
     "output_type": "execute_result"
    }
   ],
   "source": [
    "final_elemBERT_results.head()"
   ]
  },
  {
   "cell_type": "code",
   "execution_count": 46,
   "metadata": {},
   "outputs": [
    {
     "data": {
      "text/plain": [
       "43"
      ]
     },
     "execution_count": 46,
     "metadata": {},
     "output_type": "execute_result"
    }
   ],
   "source": [
    "len(final_elemBERT_results)"
   ]
  },
  {
   "cell_type": "code",
   "execution_count": 47,
   "metadata": {},
   "outputs": [
    {
     "data": {
      "text/html": [
       "<div>\n",
       "<style scoped>\n",
       "    .dataframe tbody tr th:only-of-type {\n",
       "        vertical-align: middle;\n",
       "    }\n",
       "\n",
       "    .dataframe tbody tr th {\n",
       "        vertical-align: top;\n",
       "    }\n",
       "\n",
       "    .dataframe thead th {\n",
       "        text-align: right;\n",
       "    }\n",
       "</style>\n",
       "<table border=\"1\" class=\"dataframe\">\n",
       "  <thead>\n",
       "    <tr style=\"text-align: right;\">\n",
       "      <th></th>\n",
       "      <th>smiles</th>\n",
       "      <th>typesV1</th>\n",
       "    </tr>\n",
       "  </thead>\n",
       "  <tbody>\n",
       "    <tr>\n",
       "      <th>0</th>\n",
       "      <td>COc1ccc(NC(=O)N[C@@H]2CCN(c3ccccc3F)C2=O)cc1</td>\n",
       "      <td>['C1', 'O0', 'C0', 'C3', 'C3', 'C0', 'N0', 'C0...</td>\n",
       "    </tr>\n",
       "    <tr>\n",
       "      <th>1</th>\n",
       "      <td>COc1ccc(NC(=O)N[C@H]2CCN(c3ccccc3F)C2=O)cc1</td>\n",
       "      <td>['C1', 'O0', 'C0', 'C3', 'C3', 'C0', 'N7', 'C0...</td>\n",
       "    </tr>\n",
       "    <tr>\n",
       "      <th>2</th>\n",
       "      <td>O=C(NCc1cccnc1Oc1ccc(F)cc1F)c1c[nH]c(=O)[nH]1</td>\n",
       "      <td>['O0', 'C3', 'N7', 'C5', 'C0', 'C3', 'C3', 'C3...</td>\n",
       "    </tr>\n",
       "    <tr>\n",
       "      <th>3</th>\n",
       "      <td>O=C1C[C@H](NC(=O)Nc2ccc(Oc3cccc(F)c3F)nc2)CN1</td>\n",
       "      <td>['O0', 'C0', 'C5', 'C3', 'N0', 'C0', 'O0', 'N0...</td>\n",
       "    </tr>\n",
       "    <tr>\n",
       "      <th>4</th>\n",
       "      <td>COc1cc(F)ccc1NC(=O)N[C@@H](C)C(=O)NCc1ccco1</td>\n",
       "      <td>['C1', 'O0', 'C0', 'C3', 'C0', 'F1', 'C3', 'C3...</td>\n",
       "    </tr>\n",
       "  </tbody>\n",
       "</table>\n",
       "</div>"
      ],
      "text/plain": [
       "                                          smiles  \\\n",
       "0   COc1ccc(NC(=O)N[C@@H]2CCN(c3ccccc3F)C2=O)cc1   \n",
       "1    COc1ccc(NC(=O)N[C@H]2CCN(c3ccccc3F)C2=O)cc1   \n",
       "2  O=C(NCc1cccnc1Oc1ccc(F)cc1F)c1c[nH]c(=O)[nH]1   \n",
       "3  O=C1C[C@H](NC(=O)Nc2ccc(Oc3cccc(F)c3F)nc2)CN1   \n",
       "4    COc1cc(F)ccc1NC(=O)N[C@@H](C)C(=O)NCc1ccco1   \n",
       "\n",
       "                                             typesV1  \n",
       "0  ['C1', 'O0', 'C0', 'C3', 'C3', 'C0', 'N0', 'C0...  \n",
       "1  ['C1', 'O0', 'C0', 'C3', 'C3', 'C0', 'N7', 'C0...  \n",
       "2  ['O0', 'C3', 'N7', 'C5', 'C0', 'C3', 'C3', 'C3...  \n",
       "3  ['O0', 'C0', 'C5', 'C3', 'N0', 'C0', 'O0', 'N0...  \n",
       "4  ['C1', 'O0', 'C0', 'C3', 'C0', 'F1', 'C3', 'C3...  "
      ]
     },
     "execution_count": 47,
     "metadata": {},
     "output_type": "execute_result"
    }
   ],
   "source": [
    "custom_data = pd.read_csv(\"./data/custom_data.csv\")\n",
    "custom_data.head()"
   ]
  },
  {
   "cell_type": "code",
   "execution_count": 49,
   "metadata": {},
   "outputs": [
    {
     "data": {
      "text/plain": [
       "smiles     O=C(NC1=CC=CC=C1)N[C@@H]2C(NC[C@H]2C3=C(F)C=C(...\n",
       "typesV1    ['O0', 'C0', 'N7', 'C0', 'C3', 'C3', 'C3', 'C3...\n",
       "Name: 42, dtype: object"
      ]
     },
     "execution_count": 49,
     "metadata": {},
     "output_type": "execute_result"
    }
   ],
   "source": [
    "custom_data.iloc[42]"
   ]
  },
  {
   "cell_type": "code",
   "execution_count": 50,
   "metadata": {},
   "outputs": [
    {
     "data": {
      "text/plain": [
       "43"
      ]
     },
     "execution_count": 50,
     "metadata": {},
     "output_type": "execute_result"
    }
   ],
   "source": [
    "len(custom_data)"
   ]
  },
  {
   "cell_type": "code",
   "execution_count": 51,
   "metadata": {},
   "outputs": [
    {
     "data": {
      "text/html": [
       "<div>\n",
       "<style scoped>\n",
       "    .dataframe tbody tr th:only-of-type {\n",
       "        vertical-align: middle;\n",
       "    }\n",
       "\n",
       "    .dataframe tbody tr th {\n",
       "        vertical-align: top;\n",
       "    }\n",
       "\n",
       "    .dataframe thead th {\n",
       "        text-align: right;\n",
       "    }\n",
       "</style>\n",
       "<table border=\"1\" class=\"dataframe\">\n",
       "  <thead>\n",
       "    <tr style=\"text-align: right;\">\n",
       "      <th></th>\n",
       "      <th>smiles</th>\n",
       "      <th>nr-ar</th>\n",
       "      <th>nr-ar-lbd</th>\n",
       "      <th>nr-ahr</th>\n",
       "      <th>nr-aromatase</th>\n",
       "      <th>nr-er</th>\n",
       "      <th>nr-er-lbd</th>\n",
       "      <th>nr-ppar-gamma</th>\n",
       "      <th>sr-are</th>\n",
       "      <th>sr-atad5</th>\n",
       "      <th>sr-hse</th>\n",
       "      <th>sr-mmp</th>\n",
       "      <th>sr-p53</th>\n",
       "    </tr>\n",
       "  </thead>\n",
       "  <tbody>\n",
       "    <tr>\n",
       "      <th>0</th>\n",
       "      <td>COc1ccc(NC(=O)N[C@@H]2CCN(c3ccccc3F)C2=O)cc1</td>\n",
       "      <td>0.974901</td>\n",
       "      <td>0.982013</td>\n",
       "      <td>0.061217</td>\n",
       "      <td>0.968801</td>\n",
       "      <td>0.996271</td>\n",
       "      <td>0.992347</td>\n",
       "      <td>0.999431</td>\n",
       "      <td>0.985825</td>\n",
       "      <td>0.991887</td>\n",
       "      <td>0.999384</td>\n",
       "      <td>0.980799</td>\n",
       "      <td>0.948926</td>\n",
       "    </tr>\n",
       "    <tr>\n",
       "      <th>1</th>\n",
       "      <td>COc1ccc(NC(=O)N[C@H]2CCN(c3ccccc3F)C2=O)cc1</td>\n",
       "      <td>0.976566</td>\n",
       "      <td>0.996302</td>\n",
       "      <td>0.089791</td>\n",
       "      <td>0.714170</td>\n",
       "      <td>0.947435</td>\n",
       "      <td>0.999913</td>\n",
       "      <td>0.999401</td>\n",
       "      <td>0.819958</td>\n",
       "      <td>0.992191</td>\n",
       "      <td>0.995693</td>\n",
       "      <td>0.987325</td>\n",
       "      <td>0.952360</td>\n",
       "    </tr>\n",
       "    <tr>\n",
       "      <th>2</th>\n",
       "      <td>O=C(NCc1cccnc1Oc1ccc(F)cc1F)c1c[nH]c(=O)[nH]1</td>\n",
       "      <td>0.995009</td>\n",
       "      <td>0.996950</td>\n",
       "      <td>0.992911</td>\n",
       "      <td>0.905057</td>\n",
       "      <td>0.998801</td>\n",
       "      <td>0.999852</td>\n",
       "      <td>0.979812</td>\n",
       "      <td>0.513679</td>\n",
       "      <td>0.896153</td>\n",
       "      <td>0.990153</td>\n",
       "      <td>0.838972</td>\n",
       "      <td>0.995862</td>\n",
       "    </tr>\n",
       "    <tr>\n",
       "      <th>3</th>\n",
       "      <td>O=C1C[C@H](NC(=O)Nc2ccc(Oc3cccc(F)c3F)nc2)CN1</td>\n",
       "      <td>0.987652</td>\n",
       "      <td>0.994409</td>\n",
       "      <td>0.667116</td>\n",
       "      <td>0.842116</td>\n",
       "      <td>0.972644</td>\n",
       "      <td>0.999911</td>\n",
       "      <td>0.998458</td>\n",
       "      <td>0.867404</td>\n",
       "      <td>0.840366</td>\n",
       "      <td>0.997489</td>\n",
       "      <td>0.995519</td>\n",
       "      <td>0.934092</td>\n",
       "    </tr>\n",
       "    <tr>\n",
       "      <th>4</th>\n",
       "      <td>COc1cc(F)ccc1NC(=O)N[C@@H](C)C(=O)NCc1ccco1</td>\n",
       "      <td>0.998888</td>\n",
       "      <td>0.995118</td>\n",
       "      <td>0.898902</td>\n",
       "      <td>0.985073</td>\n",
       "      <td>0.994146</td>\n",
       "      <td>0.999936</td>\n",
       "      <td>0.999566</td>\n",
       "      <td>0.986587</td>\n",
       "      <td>0.977269</td>\n",
       "      <td>0.961019</td>\n",
       "      <td>0.980918</td>\n",
       "      <td>0.937024</td>\n",
       "    </tr>\n",
       "  </tbody>\n",
       "</table>\n",
       "</div>"
      ],
      "text/plain": [
       "                                          smiles     nr-ar  nr-ar-lbd  \\\n",
       "0   COc1ccc(NC(=O)N[C@@H]2CCN(c3ccccc3F)C2=O)cc1  0.974901   0.982013   \n",
       "1    COc1ccc(NC(=O)N[C@H]2CCN(c3ccccc3F)C2=O)cc1  0.976566   0.996302   \n",
       "2  O=C(NCc1cccnc1Oc1ccc(F)cc1F)c1c[nH]c(=O)[nH]1  0.995009   0.996950   \n",
       "3  O=C1C[C@H](NC(=O)Nc2ccc(Oc3cccc(F)c3F)nc2)CN1  0.987652   0.994409   \n",
       "4    COc1cc(F)ccc1NC(=O)N[C@@H](C)C(=O)NCc1ccco1  0.998888   0.995118   \n",
       "\n",
       "     nr-ahr  nr-aromatase     nr-er  nr-er-lbd  nr-ppar-gamma    sr-are  \\\n",
       "0  0.061217      0.968801  0.996271   0.992347       0.999431  0.985825   \n",
       "1  0.089791      0.714170  0.947435   0.999913       0.999401  0.819958   \n",
       "2  0.992911      0.905057  0.998801   0.999852       0.979812  0.513679   \n",
       "3  0.667116      0.842116  0.972644   0.999911       0.998458  0.867404   \n",
       "4  0.898902      0.985073  0.994146   0.999936       0.999566  0.986587   \n",
       "\n",
       "   sr-atad5    sr-hse    sr-mmp    sr-p53  \n",
       "0  0.991887  0.999384  0.980799  0.948926  \n",
       "1  0.992191  0.995693  0.987325  0.952360  \n",
       "2  0.896153  0.990153  0.838972  0.995862  \n",
       "3  0.840366  0.997489  0.995519  0.934092  \n",
       "4  0.977269  0.961019  0.980918  0.937024  "
      ]
     },
     "execution_count": 51,
     "metadata": {},
     "output_type": "execute_result"
    }
   ],
   "source": [
    "final_elemBERT_results = pd.concat([custom_data[\"smiles\"], final_elemBERT_results], axis=1)\n",
    "final_elemBERT_results.head()"
   ]
  },
  {
   "cell_type": "code",
   "execution_count": 52,
   "metadata": {},
   "outputs": [
    {
     "data": {
      "text/plain": [
       "smiles           0\n",
       "nr-ar            0\n",
       "nr-ar-lbd        0\n",
       "nr-ahr           0\n",
       "nr-aromatase     0\n",
       "nr-er            0\n",
       "nr-er-lbd        0\n",
       "nr-ppar-gamma    0\n",
       "sr-are           0\n",
       "sr-atad5         0\n",
       "sr-hse           0\n",
       "sr-mmp           0\n",
       "sr-p53           0\n",
       "dtype: int64"
      ]
     },
     "execution_count": 52,
     "metadata": {},
     "output_type": "execute_result"
    }
   ],
   "source": [
    "final_elemBERT_results.isnull().sum()"
   ]
  },
  {
   "cell_type": "code",
   "execution_count": 53,
   "metadata": {},
   "outputs": [
    {
     "data": {
      "text/plain": [
       "43"
      ]
     },
     "execution_count": 53,
     "metadata": {},
     "output_type": "execute_result"
    }
   ],
   "source": [
    "len(final_elemBERT_results)"
   ]
  },
  {
   "cell_type": "code",
   "execution_count": 54,
   "metadata": {},
   "outputs": [],
   "source": [
    "# parsing only ZN27 properties\n",
    "reference_properties = final_elemBERT_results.iloc[42]"
   ]
  },
  {
   "cell_type": "code",
   "execution_count": 55,
   "metadata": {},
   "outputs": [
    {
     "data": {
      "text/html": [
       "<div>\n",
       "<style scoped>\n",
       "    .dataframe tbody tr th:only-of-type {\n",
       "        vertical-align: middle;\n",
       "    }\n",
       "\n",
       "    .dataframe tbody tr th {\n",
       "        vertical-align: top;\n",
       "    }\n",
       "\n",
       "    .dataframe thead th {\n",
       "        text-align: right;\n",
       "    }\n",
       "</style>\n",
       "<table border=\"1\" class=\"dataframe\">\n",
       "  <thead>\n",
       "    <tr style=\"text-align: right;\">\n",
       "      <th></th>\n",
       "      <th>smiles</th>\n",
       "      <th>nr-ar</th>\n",
       "      <th>nr-ar-lbd</th>\n",
       "      <th>nr-ahr</th>\n",
       "      <th>nr-aromatase</th>\n",
       "      <th>nr-er</th>\n",
       "      <th>nr-er-lbd</th>\n",
       "      <th>nr-ppar-gamma</th>\n",
       "      <th>sr-are</th>\n",
       "      <th>sr-atad5</th>\n",
       "      <th>sr-hse</th>\n",
       "      <th>sr-mmp</th>\n",
       "      <th>sr-p53</th>\n",
       "    </tr>\n",
       "  </thead>\n",
       "  <tbody>\n",
       "    <tr>\n",
       "      <th>42</th>\n",
       "      <td>O=C(NC1=CC=CC=C1)N[C@@H]2C(NC[C@H]2C3=C(F)C=C(...</td>\n",
       "      <td>0.997515</td>\n",
       "      <td>0.993729</td>\n",
       "      <td>0.966663</td>\n",
       "      <td>0.896233</td>\n",
       "      <td>0.998516</td>\n",
       "      <td>0.995842</td>\n",
       "      <td>0.999296</td>\n",
       "      <td>0.888512</td>\n",
       "      <td>0.998933</td>\n",
       "      <td>0.952094</td>\n",
       "      <td>0.97324</td>\n",
       "      <td>0.996295</td>\n",
       "    </tr>\n",
       "  </tbody>\n",
       "</table>\n",
       "</div>"
      ],
      "text/plain": [
       "                                               smiles     nr-ar nr-ar-lbd  \\\n",
       "42  O=C(NC1=CC=CC=C1)N[C@@H]2C(NC[C@H]2C3=C(F)C=C(...  0.997515  0.993729   \n",
       "\n",
       "      nr-ahr nr-aromatase     nr-er nr-er-lbd nr-ppar-gamma    sr-are  \\\n",
       "42  0.966663     0.896233  0.998516  0.995842      0.999296  0.888512   \n",
       "\n",
       "    sr-atad5    sr-hse   sr-mmp    sr-p53  \n",
       "42  0.998933  0.952094  0.97324  0.996295  "
      ]
     },
     "execution_count": 55,
     "metadata": {},
     "output_type": "execute_result"
    }
   ],
   "source": [
    "df_reference_properties = pd.DataFrame(reference_properties).T\n",
    "df_reference_properties"
   ]
  },
  {
   "cell_type": "code",
   "execution_count": 56,
   "metadata": {},
   "outputs": [],
   "source": [
    "df_reference_properties.to_csv(\"final_elemBERT_only_reference_results.csv\", index=False)"
   ]
  },
  {
   "cell_type": "code",
   "execution_count": 58,
   "metadata": {},
   "outputs": [],
   "source": [
    "final_elemBERT_results.to_csv(\"final_elemBERT_results.csv\", index=False)"
   ]
  },
  {
   "cell_type": "code",
   "execution_count": null,
   "metadata": {},
   "outputs": [],
   "source": []
  }
 ],
 "metadata": {
  "kernelspec": {
   "display_name": "elembert",
   "language": "python",
   "name": "python3"
  },
  "language_info": {
   "codemirror_mode": {
    "name": "ipython",
    "version": 3
   },
   "file_extension": ".py",
   "mimetype": "text/x-python",
   "name": "python",
   "nbconvert_exporter": "python",
   "pygments_lexer": "ipython3",
   "version": "3.8.0"
  }
 },
 "nbformat": 4,
 "nbformat_minor": 2
}
