{
 "cells": [
  {
   "cell_type": "code",
   "execution_count": 1,
   "metadata": {},
   "outputs": [],
   "source": [
    "import pandas as pd\n",
    "import numpy as np\n",
    "import re, glob,os,sys,pickle,random\n",
    "from collections import defaultdict"
   ]
  },
  {
   "cell_type": "code",
   "execution_count": 2,
   "metadata": {},
   "outputs": [],
   "source": [
    "#!pip install ase\n",
    "#!git clone https://github.com/dmamur/elementsem.git"
   ]
  },
  {
   "cell_type": "code",
   "execution_count": 3,
   "metadata": {},
   "outputs": [
    {
     "data": {
      "text/plain": [
       "'/home/dbsejrgus226/FPR2-Drug-Discovery/elemBERT_custom/elembert'"
      ]
     },
     "execution_count": 3,
     "metadata": {},
     "output_type": "execute_result"
    }
   ],
   "source": [
    "os.getcwd()"
   ]
  },
  {
   "cell_type": "code",
   "execution_count": 4,
   "metadata": {},
   "outputs": [
    {
     "name": "stdout",
     "output_type": "stream",
     "text": [
      "['H', 'He', 'Li', 'Be', 'B', 'C', 'N', 'O', 'F', 'Ne', 'Na', 'Mg', 'Al', 'Si', 'P', 'S', 'Cl', 'Ar', 'K', 'Ca', 'Sc', 'Ti', 'V', 'Cr', 'Mn', 'Fe', 'Co', 'Ni', 'Cu', 'Zn', 'Ga', 'Ge', 'As', 'Se', 'Br', 'Kr', 'Rb', 'Sr', 'Y', 'Zr', 'Nb', 'Mo', 'Tc', 'Ru', 'Rh', 'Pd', 'Ag', 'Cd', 'In', 'Sn', 'Sb', 'Te', 'I', 'Xe', 'Cs', 'Ba', 'La', 'Ce', 'Pr', 'Nd', 'Pm', 'Sm', 'Eu', 'Gd', 'Tb', 'Dy', 'Ho', 'Er', 'Tm', 'Yb', 'Lu', 'Hf', 'Ta', 'W', 'Re', 'Os', 'Ir', 'Pt', 'Au', 'Hg', 'Tl', 'Pb', 'Bi', 'Po', 'Ra', 'Ac', 'Th', 'Pa', 'U', 'Np', 'Pu', 'Am', 'Cm', 'Bk', 'Cf', 'Rn']\n"
     ]
    },
    {
     "name": "stderr",
     "output_type": "stream",
     "text": [
      "/home/dbsejrgus226/miniconda3/envs/elembert/lib/python3.8/site-packages/sklearn/base.py:348: InconsistentVersionWarning: Trying to unpickle estimator KMeans from version 1.1.2 when using version 1.3.2. This might lead to breaking code or invalid results. Use at your own risk. For more info please refer to:\n",
      "https://scikit-learn.org/stable/model_persistence.html#security-maintainability-limitations\n",
      "  warnings.warn(\n",
      "/home/dbsejrgus226/miniconda3/envs/elembert/lib/python3.8/site-packages/sklearn/base.py:348: InconsistentVersionWarning: Trying to unpickle estimator PCA from version 1.1.2 when using version 1.3.2. This might lead to breaking code or invalid results. Use at your own risk. For more info please refer to:\n",
      "https://scikit-learn.org/stable/model_persistence.html#security-maintainability-limitations\n",
      "  warnings.warn(\n"
     ]
    }
   ],
   "source": [
    "from ase.io import read,write\n",
    "from scipy.ndimage import gaussian_filter1d\n",
    "from ase.neighborlist import neighbor_list\n",
    "from joblib import dump, load\n",
    "from sklearn.cluster import KMeans\n",
    "from sklearn import decomposition\n",
    "from ase import Atoms\n",
    "\n",
    "ellst=open('./models/pcakm/ellist.txt','r').read().split('\\n')\n",
    "print(ellst)\n",
    "\n",
    "km = {i: load('./models/pcakm/'+i+'_kmeans.pkl') for i in ellst}\n",
    "pca = {i: load('./models/pcakm/'+i+'_pca.pkl') for i in ellst}\n",
    "\n",
    "def getRawInputs(types,atoms,x,v):\n",
    "    i, d = neighbor_list('id', atoms, 10.0, self_interaction=False)\n",
    "    rdfatoms,ntypes=[],[]\n",
    "    for k,l in enumerate(atoms):\n",
    "        el=types[k]\n",
    "        y = np.zeros(100)\n",
    "        dist = np.round(d[i==k]*10)\n",
    "        a,b=np.unique(dist, return_counts=True)\n",
    "        np.put(y,a.astype(int)-1,b)\n",
    "        values=gaussian_filter1d(y/v,1)\n",
    "        num = km[el].predict(pca[el].transform(np.nan_to_num([values],nan=0,posinf=0, neginf=0)))[0]\n",
    "        ntypes.append(el+str(num))#el2id[el+str(num)]\n",
    "    return ntypes"
   ]
  },
  {
   "cell_type": "code",
   "execution_count": 5,
   "metadata": {},
   "outputs": [],
   "source": [
    "x= np.arange(0,10,0.1)\n",
    "v = np.concatenate([[1],4*np.pi/3*(x[1:]**3 - x[:-1]**3)])"
   ]
  },
  {
   "cell_type": "code",
   "execution_count": 6,
   "metadata": {},
   "outputs": [
    {
     "data": {
      "text/html": [
       "<div>\n",
       "<style scoped>\n",
       "    .dataframe tbody tr th:only-of-type {\n",
       "        vertical-align: middle;\n",
       "    }\n",
       "\n",
       "    .dataframe tbody tr th {\n",
       "        vertical-align: top;\n",
       "    }\n",
       "\n",
       "    .dataframe thead th {\n",
       "        text-align: right;\n",
       "    }\n",
       "</style>\n",
       "<table border=\"1\" class=\"dataframe\">\n",
       "  <thead>\n",
       "    <tr style=\"text-align: right;\">\n",
       "      <th></th>\n",
       "      <th>smiles</th>\n",
       "    </tr>\n",
       "  </thead>\n",
       "  <tbody>\n",
       "    <tr>\n",
       "      <th>0</th>\n",
       "      <td>COc1ccc(NC(=O)N[C@@H]2CCN(c3ccccc3F)C2=O)cc1</td>\n",
       "    </tr>\n",
       "    <tr>\n",
       "      <th>1</th>\n",
       "      <td>COc1ccc(NC(=O)N[C@H]2CCN(c3ccccc3F)C2=O)cc1</td>\n",
       "    </tr>\n",
       "    <tr>\n",
       "      <th>2</th>\n",
       "      <td>O=C(NCc1cccnc1Oc1ccc(F)cc1F)c1c[nH]c(=O)[nH]1</td>\n",
       "    </tr>\n",
       "    <tr>\n",
       "      <th>3</th>\n",
       "      <td>O=C1C[C@H](NC(=O)Nc2ccc(Oc3cccc(F)c3F)nc2)CN1</td>\n",
       "    </tr>\n",
       "    <tr>\n",
       "      <th>4</th>\n",
       "      <td>COc1cc(F)ccc1NC(=O)N[C@@H](C)C(=O)NCc1ccco1</td>\n",
       "    </tr>\n",
       "  </tbody>\n",
       "</table>\n",
       "</div>"
      ],
      "text/plain": [
       "                                          smiles\n",
       "0   COc1ccc(NC(=O)N[C@@H]2CCN(c3ccccc3F)C2=O)cc1\n",
       "1    COc1ccc(NC(=O)N[C@H]2CCN(c3ccccc3F)C2=O)cc1\n",
       "2  O=C(NCc1cccnc1Oc1ccc(F)cc1F)c1c[nH]c(=O)[nH]1\n",
       "3  O=C1C[C@H](NC(=O)Nc2ccc(Oc3cccc(F)c3F)nc2)CN1\n",
       "4    COc1cc(F)ccc1NC(=O)N[C@@H](C)C(=O)NCc1ccco1"
      ]
     },
     "execution_count": 6,
     "metadata": {},
     "output_type": "execute_result"
    }
   ],
   "source": [
    "atoms = pd.read_csv(\"./data/final_tanimoto_scoring_data.csv\", usecols=[\"smiles\"])\n",
    "atoms.head()"
   ]
  },
  {
   "cell_type": "code",
   "execution_count": 7,
   "metadata": {},
   "outputs": [
    {
     "data": {
      "text/plain": [
       "43"
      ]
     },
     "execution_count": 7,
     "metadata": {},
     "output_type": "execute_result"
    }
   ],
   "source": [
    "len(atoms)"
   ]
  },
  {
   "cell_type": "code",
   "execution_count": 8,
   "metadata": {},
   "outputs": [],
   "source": [
    "from rdkit import Chem\n",
    "from rdkit.Chem import AllChem\n",
    "from rdkit.Chem import rdMolDescriptors\n",
    "\n",
    "from tqdm import tqdm"
   ]
  },
  {
   "cell_type": "markdown",
   "metadata": {},
   "source": [
    "### SMLES-> molecule(화학식)으로 변환하는 과정"
   ]
  },
  {
   "cell_type": "code",
   "execution_count": 9,
   "metadata": {},
   "outputs": [
    {
     "name": "stderr",
     "output_type": "stream",
     "text": [
      "Generating mol files...: 100%|██████████| 43/43 [00:00<00:00, 49.69it/s]\n"
     ]
    }
   ],
   "source": [
    "params = AllChem.ETKDGv3()\n",
    "params.randomSeed = 0xf00d\n",
    "\n",
    "for i in tqdm(range(len(atoms)), desc=\"Generating mol files...\"):\n",
    "    \n",
    "    mol = Chem.MolFromSmiles(atoms[\"smiles\"][i])\n",
    "    mol = Chem.AddHs(mol)\n",
    "    AllChem.EmbedMolecule(mol, params)\n",
    "    results = Chem.MolToMolBlock(mol)\n",
    "    print(results, file=open(f\"./data/mol_file_{i}.mol\", \"w+\"))"
   ]
  },
  {
   "cell_type": "code",
   "execution_count": 10,
   "metadata": {},
   "outputs": [
    {
     "name": "stderr",
     "output_type": "stream",
     "text": [
      "Generating...: 100%|██████████| 43/43 [00:00<00:00, 53.60it/s]\n"
     ]
    }
   ],
   "source": [
    "types_lst = []\n",
    "for i in tqdm(range(len(atoms)), desc=\"Generating...\"):\n",
    "    atom = read(f\"./data/mol_file_{i}.mol\", format=\"mol\")\n",
    "    types = getRawInputs(atom.get_chemical_symbols(), atom, x, v)\n",
    "    types_lst.append(types)\n",
    "\n",
    "atoms[\"typesV1\"] = types_lst"
   ]
  },
  {
   "cell_type": "code",
   "execution_count": 11,
   "metadata": {},
   "outputs": [
    {
     "data": {
      "text/html": [
       "<div>\n",
       "<style scoped>\n",
       "    .dataframe tbody tr th:only-of-type {\n",
       "        vertical-align: middle;\n",
       "    }\n",
       "\n",
       "    .dataframe tbody tr th {\n",
       "        vertical-align: top;\n",
       "    }\n",
       "\n",
       "    .dataframe thead th {\n",
       "        text-align: right;\n",
       "    }\n",
       "</style>\n",
       "<table border=\"1\" class=\"dataframe\">\n",
       "  <thead>\n",
       "    <tr style=\"text-align: right;\">\n",
       "      <th></th>\n",
       "      <th>smiles</th>\n",
       "      <th>typesV1</th>\n",
       "    </tr>\n",
       "  </thead>\n",
       "  <tbody>\n",
       "    <tr>\n",
       "      <th>0</th>\n",
       "      <td>COc1ccc(NC(=O)N[C@@H]2CCN(c3ccccc3F)C2=O)cc1</td>\n",
       "      <td>[C1, O0, C0, C3, C3, C0, N0, C0, O0, N0, C3, C...</td>\n",
       "    </tr>\n",
       "    <tr>\n",
       "      <th>1</th>\n",
       "      <td>COc1ccc(NC(=O)N[C@H]2CCN(c3ccccc3F)C2=O)cc1</td>\n",
       "      <td>[C1, O0, C0, C3, C3, C0, N7, C0, O0, N0, C3, C...</td>\n",
       "    </tr>\n",
       "    <tr>\n",
       "      <th>2</th>\n",
       "      <td>O=C(NCc1cccnc1Oc1ccc(F)cc1F)c1c[nH]c(=O)[nH]1</td>\n",
       "      <td>[O0, C3, N7, C5, C0, C3, C3, C3, N1, C0, O0, C...</td>\n",
       "    </tr>\n",
       "    <tr>\n",
       "      <th>3</th>\n",
       "      <td>O=C1C[C@H](NC(=O)Nc2ccc(Oc3cccc(F)c3F)nc2)CN1</td>\n",
       "      <td>[O0, C0, C5, C3, N0, C0, O0, N0, C0, C3, C3, C...</td>\n",
       "    </tr>\n",
       "    <tr>\n",
       "      <th>4</th>\n",
       "      <td>COc1cc(F)ccc1NC(=O)N[C@@H](C)C(=O)NCc1ccco1</td>\n",
       "      <td>[C1, O0, C0, C3, C0, F1, C3, C3, C0, N7, C3, O...</td>\n",
       "    </tr>\n",
       "  </tbody>\n",
       "</table>\n",
       "</div>"
      ],
      "text/plain": [
       "                                          smiles  \\\n",
       "0   COc1ccc(NC(=O)N[C@@H]2CCN(c3ccccc3F)C2=O)cc1   \n",
       "1    COc1ccc(NC(=O)N[C@H]2CCN(c3ccccc3F)C2=O)cc1   \n",
       "2  O=C(NCc1cccnc1Oc1ccc(F)cc1F)c1c[nH]c(=O)[nH]1   \n",
       "3  O=C1C[C@H](NC(=O)Nc2ccc(Oc3cccc(F)c3F)nc2)CN1   \n",
       "4    COc1cc(F)ccc1NC(=O)N[C@@H](C)C(=O)NCc1ccco1   \n",
       "\n",
       "                                             typesV1  \n",
       "0  [C1, O0, C0, C3, C3, C0, N0, C0, O0, N0, C3, C...  \n",
       "1  [C1, O0, C0, C3, C3, C0, N7, C0, O0, N0, C3, C...  \n",
       "2  [O0, C3, N7, C5, C0, C3, C3, C3, N1, C0, O0, C...  \n",
       "3  [O0, C0, C5, C3, N0, C0, O0, N0, C0, C3, C3, C...  \n",
       "4  [C1, O0, C0, C3, C0, F1, C3, C3, C0, N7, C3, O...  "
      ]
     },
     "execution_count": 11,
     "metadata": {},
     "output_type": "execute_result"
    }
   ],
   "source": [
    "atoms.head()"
   ]
  },
  {
   "cell_type": "code",
   "execution_count": 12,
   "metadata": {},
   "outputs": [],
   "source": [
    "atoms.to_csv(\"./data/custom_data.csv\", index=False)"
   ]
  },
  {
   "cell_type": "code",
   "execution_count": 13,
   "metadata": {},
   "outputs": [
    {
     "data": {
      "text/plain": [
       "43"
      ]
     },
     "execution_count": 13,
     "metadata": {},
     "output_type": "execute_result"
    }
   ],
   "source": [
    "len(atoms)"
   ]
  },
  {
   "cell_type": "code",
   "execution_count": null,
   "metadata": {},
   "outputs": [],
   "source": []
  }
 ],
 "metadata": {
  "kernelspec": {
   "display_name": "elembert",
   "language": "python",
   "name": "python3"
  },
  "language_info": {
   "codemirror_mode": {
    "name": "ipython",
    "version": 3
   },
   "file_extension": ".py",
   "mimetype": "text/x-python",
   "name": "python",
   "nbconvert_exporter": "python",
   "pygments_lexer": "ipython3",
   "version": "3.13.0"
  }
 },
 "nbformat": 4,
 "nbformat_minor": 2
}
