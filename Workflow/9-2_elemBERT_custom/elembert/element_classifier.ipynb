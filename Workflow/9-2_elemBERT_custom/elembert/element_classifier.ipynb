{
  "cells": [
    {
      "cell_type": "markdown",
      "metadata": {
        "colab_type": "text",
        "id": "view-in-github"
      },
      "source": [
        "<a href=\"https://colab.research.google.com/github/dmamur/elementsem/blob/main/element_classifier.ipynb\" target=\"_parent\"><img src=\"https://colab.research.google.com/assets/colab-badge.svg\" alt=\"Open In Colab\"/></a>"
      ]
    },
    {
      "cell_type": "code",
      "execution_count": 1,
      "id": "a7b1fb1b",
      "metadata": {
        "id": "a7b1fb1b",
        "scrolled": true
      },
      "outputs": [],
      "source": [
        "import pandas as pd\n",
        "import numpy as np\n",
        "import re, glob,os,sys,pickle,random\n",
        "from collections import defaultdict"
      ]
    },
    {
      "cell_type": "code",
      "execution_count": 2,
      "id": "zgmyMBD2uJtw",
      "metadata": {
        "colab": {
          "base_uri": "https://localhost:8080/"
        },
        "id": "zgmyMBD2uJtw",
        "outputId": "b7c96eb8-7dd2-4c5d-aa92-6b8da987d9f1"
      },
      "outputs": [],
      "source": [
        "#!pip install ase\n",
        "#!git clone https://github.com/dmamur/elementsem.git"
      ]
    },
    {
      "cell_type": "code",
      "execution_count": 3,
      "id": "b956e262",
      "metadata": {},
      "outputs": [],
      "source": [
        "#pip install joblib"
      ]
    },
    {
      "cell_type": "code",
      "execution_count": 4,
      "id": "8000e10d",
      "metadata": {},
      "outputs": [],
      "source": [
        "#pip install scikit-learn"
      ]
    },
    {
      "cell_type": "markdown",
      "id": "86baf7df",
      "metadata": {
        "id": "86baf7df"
      },
      "source": [
        "# Load data from matbench"
      ]
    },
    {
      "cell_type": "code",
      "execution_count": 2,
      "id": "Hk-gf8Ymaa1y",
      "metadata": {
        "colab": {
          "base_uri": "https://localhost:8080/"
        },
        "id": "Hk-gf8Ymaa1y",
        "outputId": "5abf82e8-e04d-4e23-d930-ab936ae853bf"
      },
      "outputs": [
        {
          "name": "stdout",
          "output_type": "stream",
          "text": [
            "['H', 'He', 'Li', 'Be', 'B', 'C', 'N', 'O', 'F', 'Ne', 'Na', 'Mg', 'Al', 'Si', 'P', 'S', 'Cl', 'Ar', 'K', 'Ca', 'Sc', 'Ti', 'V', 'Cr', 'Mn', 'Fe', 'Co', 'Ni', 'Cu', 'Zn', 'Ga', 'Ge', 'As', 'Se', 'Br', 'Kr', 'Rb', 'Sr', 'Y', 'Zr', 'Nb', 'Mo', 'Tc', 'Ru', 'Rh', 'Pd', 'Ag', 'Cd', 'In', 'Sn', 'Sb', 'Te', 'I', 'Xe', 'Cs', 'Ba', 'La', 'Ce', 'Pr', 'Nd', 'Pm', 'Sm', 'Eu', 'Gd', 'Tb', 'Dy', 'Ho', 'Er', 'Tm', 'Yb', 'Lu', 'Hf', 'Ta', 'W', 'Re', 'Os', 'Ir', 'Pt', 'Au', 'Hg', 'Tl', 'Pb', 'Bi', 'Po', 'Ra', 'Ac', 'Th', 'Pa', 'U', 'Np', 'Pu', 'Am', 'Cm', 'Bk', 'Cf', 'Rn']\n"
          ]
        },
        {
          "name": "stderr",
          "output_type": "stream",
          "text": [
            "/home/media/data2/user_home/dbsejrgus226/miniconda3/envs/elembert/lib/python3.8/site-packages/sklearn/base.py:348: InconsistentVersionWarning: Trying to unpickle estimator KMeans from version 1.1.2 when using version 1.3.2. This might lead to breaking code or invalid results. Use at your own risk. For more info please refer to:\n",
            "https://scikit-learn.org/stable/model_persistence.html#security-maintainability-limitations\n",
            "  warnings.warn(\n",
            "/home/media/data2/user_home/dbsejrgus226/miniconda3/envs/elembert/lib/python3.8/site-packages/sklearn/base.py:348: InconsistentVersionWarning: Trying to unpickle estimator PCA from version 1.1.2 when using version 1.3.2. This might lead to breaking code or invalid results. Use at your own risk. For more info please refer to:\n",
            "https://scikit-learn.org/stable/model_persistence.html#security-maintainability-limitations\n",
            "  warnings.warn(\n"
          ]
        }
      ],
      "source": [
        "from ase.io import read,write\n",
        "from scipy.ndimage import gaussian_filter1d\n",
        "from ase.neighborlist import neighbor_list\n",
        "from joblib import dump, load\n",
        "from sklearn.cluster import KMeans\n",
        "from sklearn import decomposition\n",
        "from ase import Atoms\n",
        "\n",
        "ellst=open('./elementsem/models/pcakm/ellist.txt','r').read().split('\\n')\n",
        "print(ellst)\n",
        "\n",
        "km = {i: load('./elementsem/models/pcakm/'+i+'_kmeans.pkl') for i in ellst}\n",
        "pca = {i: load('./elementsem/models/pcakm/'+i+'_pca.pkl') for i in ellst}\n",
        "\n",
        "def getRawInputs(types,atoms,x,v):\n",
        "    i, d = neighbor_list('id', atoms, 10.0, self_interaction=False)\n",
        "    rdfatoms,ntypes=[],[]\n",
        "    for k,l in enumerate(atoms):\n",
        "        el=types[k]\n",
        "        y = np.zeros(100)\n",
        "        dist = np.round(d[i==k]*10)\n",
        "        a,b=np.unique(dist, return_counts=True)\n",
        "        np.put(y,a.astype(int)-1,b)\n",
        "        values=gaussian_filter1d(y/v,1)\n",
        "        num = km[el].predict(pca[el].transform(np.nan_to_num([values],nan=0,posinf=0, neginf=0)))[0]\n",
        "        ntypes.append(el+str(num))#el2id[el+str(num)]\n",
        "    return ntypes"
      ]
    },
    {
      "cell_type": "code",
      "execution_count": 41,
      "id": "2ZvHlzMnaHNv",
      "metadata": {
        "id": "2ZvHlzMnaHNv"
      },
      "outputs": [],
      "source": [
        "from ase.build import molecule\n",
        "atoms = molecule('CH3CH2NH2')\n",
        "#typesLstTest = getModelInputs(train_inputs)"
      ]
    },
    {
      "cell_type": "code",
      "execution_count": 42,
      "id": "229b98b7",
      "metadata": {},
      "outputs": [
        {
          "data": {
            "text/plain": [
              "Atoms(symbols='C2NH7', pbc=False)"
            ]
          },
          "execution_count": 42,
          "metadata": {},
          "output_type": "execute_result"
        }
      ],
      "source": [
        "atoms"
      ]
    },
    {
      "cell_type": "code",
      "execution_count": 43,
      "id": "7c6489a5",
      "metadata": {},
      "outputs": [
        {
          "data": {
            "text/plain": [
              "'C2H7N'"
            ]
          },
          "execution_count": 43,
          "metadata": {},
          "output_type": "execute_result"
        }
      ],
      "source": [
        "atoms.get_chemical_formula()"
      ]
    },
    {
      "cell_type": "code",
      "execution_count": 64,
      "id": "5fa12f0c",
      "metadata": {
        "id": "5fa12f0c"
      },
      "outputs": [],
      "source": [
        "x= np.arange(0,10,0.1)\n",
        "v = np.concatenate([[1],4*np.pi/3*(x[1:]**3 - x[:-1]**3)])\n",
        "typesN=getRawInputs(atoms.get_chemical_symbols(),atoms,x,v)"
      ]
    },
    {
      "cell_type": "code",
      "execution_count": 5,
      "id": "5TW7sQZeoeLW",
      "metadata": {
        "colab": {
          "base_uri": "https://localhost:8080/"
        },
        "id": "5TW7sQZeoeLW",
        "outputId": "dc08c065-66fc-4e84-9de5-70ea2f837b74"
      },
      "outputs": [
        {
          "name": "stdout",
          "output_type": "stream",
          "text": [
            "['C1', 'C5', 'N3', 'H0', 'H0', 'H0', 'H0', 'H0', 'H0', 'H0']\n"
          ]
        }
      ],
      "source": [
        "print(typesN)"
      ]
    },
    {
      "cell_type": "code",
      "execution_count": 6,
      "id": "0O296tncB-sw",
      "metadata": {
        "id": "0O296tncB-sw"
      },
      "outputs": [],
      "source": [
        "from ase.io import read, write"
      ]
    },
    {
      "cell_type": "code",
      "execution_count": 12,
      "id": "Sf7hA93oCDJD",
      "metadata": {
        "colab": {
          "base_uri": "https://localhost:8080/"
        },
        "id": "Sf7hA93oCDJD",
        "outputId": "5727234c-84ee-4291-b8e8-e1481213821d"
      },
      "outputs": [
        {
          "name": "stdout",
          "output_type": "stream",
          "text": [
            "['C5', 'C3', 'C0', 'C0', 'S2', 'C3', 'C0', 'C5', 'N3', 'C0', 'C5', 'S2', 'C0', 'C3', 'O0', 'O2', 'H0', 'H0', 'H0', 'H0', 'H0', 'H0', 'H0', 'H0', 'H0', 'H0', 'H0', 'H0', 'H0']\n"
          ]
        }
      ],
      "source": [
        "atoms=read('./elementsem/models/pcakm/Figure2a.xyz',format='xyz')\n",
        "typesN1=getRawInputs(atoms.get_chemical_symbols(),atoms,x,v)\n",
        "print(typesN1)"
      ]
    },
    {
      "cell_type": "code",
      "execution_count": 13,
      "id": "78839c30",
      "metadata": {},
      "outputs": [
        {
          "data": {
            "text/plain": [
              "Atoms(symbols='C4SC3NC2SC2O2H13', pbc=False)"
            ]
          },
          "execution_count": 13,
          "metadata": {},
          "output_type": "execute_result"
        }
      ],
      "source": [
        "atoms"
      ]
    },
    {
      "cell_type": "code",
      "execution_count": 13,
      "id": "X0hOLtnDM7YF",
      "metadata": {
        "colab": {
          "base_uri": "https://localhost:8080/"
        },
        "id": "X0hOLtnDM7YF",
        "outputId": "4d3ae8f6-1cc0-4700-f60f-8f4612bde580"
      },
      "outputs": [
        {
          "name": "stdout",
          "output_type": "stream",
          "text": [
            "['Li0', 'Li0', 'Li0', 'Li0', 'Li0', 'Li0', 'Li0', 'Li0', 'Li0', 'Li0', 'Li0', 'Li0', 'Li0', 'Li0', 'Li0', 'Li0', 'Co1', 'Co1', 'O0', 'O0', 'O0', 'O0', 'O0', 'O0', 'O0', 'O0', 'O0', 'O0', 'O0', 'O0']\n"
          ]
        }
      ],
      "source": [
        "atoms=read('./elementsem/models/pcakm/Figure2b.xyz',format='xyz')\n",
        "typesN2=getRawInputs(atoms.get_chemical_symbols(),atoms,x,v)\n",
        "print(typesN2)"
      ]
    }
  ],
  "metadata": {
    "colab": {
      "include_colab_link": true,
      "provenance": []
    },
    "kernelspec": {
      "display_name": "Python 3",
      "name": "python3"
    },
    "language_info": {
      "codemirror_mode": {
        "name": "ipython",
        "version": 3
      },
      "file_extension": ".py",
      "mimetype": "text/x-python",
      "name": "python",
      "nbconvert_exporter": "python",
      "pygments_lexer": "ipython3",
      "version": "3.6.15"
    }
  },
  "nbformat": 4,
  "nbformat_minor": 5
}
