{
 "cells": [
  {
   "cell_type": "code",
   "execution_count": 1,
   "metadata": {},
   "outputs": [
    {
     "name": "stdout",
     "output_type": "stream",
     "text": [
      "2023.09.5\n"
     ]
    }
   ],
   "source": [
    "from rdkit import Chem\n",
    "from rdkit.Chem.Draw import IPythonConsole\n",
    "from rdkit.Chem import rdDepictor\n",
    "rdDepictor.SetPreferCoordGen(True)\n",
    "import rdkit\n",
    "print(rdkit.__version__)"
   ]
  },
  {
   "cell_type": "code",
   "execution_count": 2,
   "metadata": {},
   "outputs": [],
   "source": [
    "import sys\n",
    "import os\n",
    "sys.path.append(os.path.join(os.environ[\"CONDA_PREFIX\"],\"share\",\"RDKit\",\"Contrib\"))\n",
    "\n",
    "from SA_Score import sascorer\n",
    "from NP_Score import npscorer"
   ]
  },
  {
   "cell_type": "code",
   "execution_count": 20,
   "metadata": {},
   "outputs": [
    {
     "data": {
      "text/html": [
       "<div>\n",
       "<style scoped>\n",
       "    .dataframe tbody tr th:only-of-type {\n",
       "        vertical-align: middle;\n",
       "    }\n",
       "\n",
       "    .dataframe tbody tr th {\n",
       "        vertical-align: top;\n",
       "    }\n",
       "\n",
       "    .dataframe thead th {\n",
       "        text-align: right;\n",
       "    }\n",
       "</style>\n",
       "<table border=\"1\" class=\"dataframe\">\n",
       "  <thead>\n",
       "    <tr style=\"text-align: right;\">\n",
       "      <th></th>\n",
       "      <th>smiles</th>\n",
       "    </tr>\n",
       "  </thead>\n",
       "  <tbody>\n",
       "    <tr>\n",
       "      <th>0</th>\n",
       "      <td>Cc1ccc([C@@H]2C(C(=O)c3cc(C)ccc3C)=C(O)C(=O)N2...</td>\n",
       "    </tr>\n",
       "    <tr>\n",
       "      <th>1</th>\n",
       "      <td>C[C@@H]1CC=C[C@@H]2[C@@H]3O[C@]3(C)[C@H](C)[C@...</td>\n",
       "    </tr>\n",
       "    <tr>\n",
       "      <th>2</th>\n",
       "      <td>COc1ccccc1/C=C1\\SC(Nc2ccccc2)=C(C(=O)NC2CCN(C)...</td>\n",
       "    </tr>\n",
       "    <tr>\n",
       "      <th>3</th>\n",
       "      <td>C#CCOc1c(I)cc([C@H]2NC(=O)c3ccccc3O2)cc1OCC</td>\n",
       "    </tr>\n",
       "    <tr>\n",
       "      <th>4</th>\n",
       "      <td>C=C(C)CN1C(=O)N[C@@](CC)(C2CCN(C(=O)c3cc(C)nc4...</td>\n",
       "    </tr>\n",
       "  </tbody>\n",
       "</table>\n",
       "</div>"
      ],
      "text/plain": [
       "                                              smiles\n",
       "0  Cc1ccc([C@@H]2C(C(=O)c3cc(C)ccc3C)=C(O)C(=O)N2...\n",
       "1  C[C@@H]1CC=C[C@@H]2[C@@H]3O[C@]3(C)[C@H](C)[C@...\n",
       "2  COc1ccccc1/C=C1\\SC(Nc2ccccc2)=C(C(=O)NC2CCN(C)...\n",
       "3        C#CCOc1c(I)cc([C@H]2NC(=O)c3ccccc3O2)cc1OCC\n",
       "4  C=C(C)CN1C(=O)N[C@@](CC)(C2CCN(C(=O)c3cc(C)nc4..."
      ]
     },
     "execution_count": 20,
     "metadata": {},
     "output_type": "execute_result"
    }
   ],
   "source": [
    "import pandas as pd\n",
    "data = pd.read_csv(\"./merge_data_with_lipinski_tanimoto_and_common.csv\", usecols=[\"smiles\"])\n",
    "data.head()"
   ]
  },
  {
   "cell_type": "code",
   "execution_count": 21,
   "metadata": {},
   "outputs": [
    {
     "data": {
      "text/plain": [
       "70244"
      ]
     },
     "execution_count": 21,
     "metadata": {},
     "output_type": "execute_result"
    }
   ],
   "source": [
    "len(data)"
   ]
  },
  {
   "cell_type": "code",
   "execution_count": 25,
   "metadata": {},
   "outputs": [],
   "source": [
    "sascores = []\n",
    "for i in range(len(data)):\n",
    "    mol = Chem.MolFromSmiles(data[\"smiles\"][i])\n",
    "    sascores.append(sascorer.calculateScore(mol))\n",
    "\n",
    "data[\"SAScore\"] = sascores"
   ]
  },
  {
   "cell_type": "code",
   "execution_count": 4,
   "metadata": {},
   "outputs": [
    {
     "data": {
      "text/plain": [
       "2.723628803171593"
      ]
     },
     "execution_count": 4,
     "metadata": {},
     "output_type": "execute_result"
    }
   ],
   "source": [
    "ZN27 = \"COc1ccc([C@@H]2CCCN2C(=O)Nc2cc(C(F)(F)F)ccc2N2CCOCC2)cc1\"\n",
    "mol = Chem.MolFromSmiles(ZN27)\n",
    "SAS = sascorer.calculateScore(mol)\n",
    "SAS"
   ]
  },
  {
   "cell_type": "code",
   "execution_count": 26,
   "metadata": {},
   "outputs": [
    {
     "data": {
      "text/html": [
       "<div>\n",
       "<style scoped>\n",
       "    .dataframe tbody tr th:only-of-type {\n",
       "        vertical-align: middle;\n",
       "    }\n",
       "\n",
       "    .dataframe tbody tr th {\n",
       "        vertical-align: top;\n",
       "    }\n",
       "\n",
       "    .dataframe thead th {\n",
       "        text-align: right;\n",
       "    }\n",
       "</style>\n",
       "<table border=\"1\" class=\"dataframe\">\n",
       "  <thead>\n",
       "    <tr style=\"text-align: right;\">\n",
       "      <th></th>\n",
       "      <th>smiles</th>\n",
       "      <th>SAScore</th>\n",
       "    </tr>\n",
       "  </thead>\n",
       "  <tbody>\n",
       "    <tr>\n",
       "      <th>0</th>\n",
       "      <td>Cc1ccc([C@@H]2C(C(=O)c3cc(C)ccc3C)=C(O)C(=O)N2...</td>\n",
       "      <td>2.829576</td>\n",
       "    </tr>\n",
       "    <tr>\n",
       "      <th>1</th>\n",
       "      <td>C[C@@H]1CC=C[C@@H]2[C@@H]3O[C@]3(C)[C@H](C)[C@...</td>\n",
       "      <td>5.959425</td>\n",
       "    </tr>\n",
       "    <tr>\n",
       "      <th>2</th>\n",
       "      <td>COc1ccccc1/C=C1\\SC(Nc2ccccc2)=C(C(=O)NC2CCN(C)...</td>\n",
       "      <td>2.525107</td>\n",
       "    </tr>\n",
       "    <tr>\n",
       "      <th>3</th>\n",
       "      <td>C#CCOc1c(I)cc([C@H]2NC(=O)c3ccccc3O2)cc1OCC</td>\n",
       "      <td>3.208447</td>\n",
       "    </tr>\n",
       "    <tr>\n",
       "      <th>4</th>\n",
       "      <td>C=C(C)CN1C(=O)N[C@@](CC)(C2CCN(C(=O)c3cc(C)nc4...</td>\n",
       "      <td>3.195644</td>\n",
       "    </tr>\n",
       "  </tbody>\n",
       "</table>\n",
       "</div>"
      ],
      "text/plain": [
       "                                              smiles   SAScore\n",
       "0  Cc1ccc([C@@H]2C(C(=O)c3cc(C)ccc3C)=C(O)C(=O)N2...  2.829576\n",
       "1  C[C@@H]1CC=C[C@@H]2[C@@H]3O[C@]3(C)[C@H](C)[C@...  5.959425\n",
       "2  COc1ccccc1/C=C1\\SC(Nc2ccccc2)=C(C(=O)NC2CCN(C)...  2.525107\n",
       "3        C#CCOc1c(I)cc([C@H]2NC(=O)c3ccccc3O2)cc1OCC  3.208447\n",
       "4  C=C(C)CN1C(=O)N[C@@](CC)(C2CCN(C(=O)c3cc(C)nc4...  3.195644"
      ]
     },
     "execution_count": 26,
     "metadata": {},
     "output_type": "execute_result"
    }
   ],
   "source": [
    "data.head()"
   ]
  },
  {
   "cell_type": "code",
   "execution_count": 5,
   "metadata": {},
   "outputs": [
    {
     "data": {
      "text/html": [
       "<div>\n",
       "<style scoped>\n",
       "    .dataframe tbody tr th:only-of-type {\n",
       "        vertical-align: middle;\n",
       "    }\n",
       "\n",
       "    .dataframe tbody tr th {\n",
       "        vertical-align: top;\n",
       "    }\n",
       "\n",
       "    .dataframe thead th {\n",
       "        text-align: right;\n",
       "    }\n",
       "</style>\n",
       "<table border=\"1\" class=\"dataframe\">\n",
       "  <thead>\n",
       "    <tr style=\"text-align: right;\">\n",
       "      <th></th>\n",
       "      <th>smiles</th>\n",
       "      <th>SAScore</th>\n",
       "    </tr>\n",
       "  </thead>\n",
       "  <tbody>\n",
       "    <tr>\n",
       "      <th>0</th>\n",
       "      <td>COc1ccc([C@@H]2CCCN2C(=O)Nc2cc(C(F)(F)F)ccc2N2...</td>\n",
       "      <td>2.723629</td>\n",
       "    </tr>\n",
       "  </tbody>\n",
       "</table>\n",
       "</div>"
      ],
      "text/plain": [
       "                                              smiles   SAScore\n",
       "0  COc1ccc([C@@H]2CCCN2C(=O)Nc2cc(C(F)(F)F)ccc2N2...  2.723629"
      ]
     },
     "execution_count": 5,
     "metadata": {},
     "output_type": "execute_result"
    }
   ],
   "source": [
    "ZN27_SAS = pd.DataFrame({\"smiles\":[ZN27], \"SAScore\":[SAS]})\n",
    "ZN27_SAS.head()"
   ]
  },
  {
   "cell_type": "code",
   "execution_count": 27,
   "metadata": {},
   "outputs": [],
   "source": [
    "data.to_csv(\"./SAScore_results.csv\")"
   ]
  },
  {
   "cell_type": "code",
   "execution_count": 6,
   "metadata": {},
   "outputs": [],
   "source": [
    "ZN27_SAS.to_csv(\"./ZN27_SAScore.csv\")"
   ]
  }
 ],
 "metadata": {
  "kernelspec": {
   "display_name": "huntington",
   "language": "python",
   "name": "python3"
  },
  "language_info": {
   "codemirror_mode": {
    "name": "ipython",
    "version": 3
   },
   "file_extension": ".py",
   "mimetype": "text/x-python",
   "name": "python",
   "nbconvert_exporter": "python",
   "pygments_lexer": "ipython3",
   "version": "3.8.-1"
  }
 },
 "nbformat": 4,
 "nbformat_minor": 2
}
