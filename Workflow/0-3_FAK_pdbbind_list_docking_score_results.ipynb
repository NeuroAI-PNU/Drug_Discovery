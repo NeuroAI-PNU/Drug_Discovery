{
 "cells": [
  {
   "cell_type": "code",
   "execution_count": 1,
   "metadata": {},
   "outputs": [],
   "source": [
    "import pandas as pd"
   ]
  },
  {
   "cell_type": "code",
   "execution_count": 3,
   "metadata": {},
   "outputs": [
    {
     "name": "stdout",
     "output_type": "stream",
     "text": [
      "7\n"
     ]
    }
   ],
   "source": [
    "data = open(f\"./Zn27docking_score.txt\", \"r\", encoding=\"UTF8\")\n",
    "lines = data.readlines()\n",
    "score = []\n",
    "for x in range(len(lines)):\n",
    "    if \"mode\" in lines[x]:\n",
    "        if lines[x+4][0] == \"2\":\n",
    "            score.append(lines[x+4][8:12])\n",
    "        elif lines[x+4][0] != \"2\":\n",
    "            score.append(lines[x+3][8:12])\n",
    "\n",
    "\n",
    "print(len(score))"
   ]
  },
  {
   "cell_type": "code",
   "execution_count": 4,
   "metadata": {},
   "outputs": [
    {
     "data": {
      "text/plain": [
       "['-5.3', '-6.1', '-6.8', '-0.1', '-7.2', '58.5', '-4.5']"
      ]
     },
     "execution_count": 4,
     "metadata": {},
     "output_type": "execute_result"
    }
   ],
   "source": [
    "score"
   ]
  },
  {
   "cell_type": "code",
   "execution_count": null,
   "metadata": {},
   "outputs": [],
   "source": []
  }
 ],
 "metadata": {
  "kernelspec": {
   "display_name": "huntington",
   "language": "python",
   "name": "python3"
  },
  "language_info": {
   "codemirror_mode": {
    "name": "ipython",
    "version": 3
   },
   "file_extension": ".py",
   "mimetype": "text/x-python",
   "name": "python",
   "nbconvert_exporter": "python",
   "pygments_lexer": "ipython3",
   "version": "3.8.18"
  }
 },
 "nbformat": 4,
 "nbformat_minor": 2
}
