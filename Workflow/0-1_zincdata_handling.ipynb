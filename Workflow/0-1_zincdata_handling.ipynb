{
 "cells": [
  {
   "cell_type": "code",
   "execution_count": 1,
   "metadata": {},
   "outputs": [],
   "source": [
    "import os"
   ]
  },
  {
   "cell_type": "code",
   "execution_count": 2,
   "metadata": {},
   "outputs": [
    {
     "data": {
      "text/plain": [
       "'/home/dbsejrgus226/Huntington-s-Disease-Drug-Discovery'"
      ]
     },
     "execution_count": 2,
     "metadata": {},
     "output_type": "execute_result"
    }
   ],
   "source": [
    "os.getcwd()"
   ]
  },
  {
   "cell_type": "code",
   "execution_count": 3,
   "metadata": {},
   "outputs": [
    {
     "data": {
      "text/plain": [
       "65"
      ]
     },
     "execution_count": 3,
     "metadata": {},
     "output_type": "execute_result"
    }
   ],
   "source": [
    "# ascii code 65 = \"A\"\n",
    "# ord() / chr()\n",
    "a = ord(\"A\")\n",
    "a"
   ]
  },
  {
   "cell_type": "code",
   "execution_count": 8,
   "metadata": {},
   "outputs": [
    {
     "name": "stdout",
     "output_type": "stream",
     "text": [
      "10725863\n"
     ]
    }
   ],
   "source": [
    "# total substance confirm\n",
    "length = 0 \n",
    "\n",
    "for x in range(66, 75):\n",
    "    for y in range(65, 75):\n",
    "\n",
    "        x_char = chr(x)\n",
    "        y_char = chr(y)\n",
    "        files = os.listdir(f\"/home/dbsejrgus226/Huntington-s-Disease-Drug-Discovery/zinc_dataset/{x_char}{y_char}\")\n",
    "\n",
    "        \n",
    "        for f in files:\n",
    "            data = open(f\"./zinc_dataset/{x_char}{y_char}/{f}\", \"r\", encoding=\"UTF8\")\n",
    "            lines = data.readlines()\n",
    "            ln = len(lines)\n",
    "            length += ln\n",
    "            data.close()\n",
    "\n",
    "\n",
    "print(length)"
   ]
  },
  {
   "cell_type": "code",
   "execution_count": 100,
   "metadata": {},
   "outputs": [],
   "source": [
    "# 1-1)each file is merged into one file\n",
    "for x in range(66, 75):\n",
    "    for y in range(65 ,75):\n",
    "        \n",
    "        x_char =chr(x)\n",
    "        y_char =chr(y)\n",
    "        outfilename = f\"zinc_dataset{x_char}{y_char}.txt\"\n",
    "        files = os.listdir(f\"/home/dbsejrgus226/Huntington-s-Disease-Drug-Discovery/zinc_dataset/{x_char}{y_char}\")\n",
    "\n",
    "        output = open(outfilename, \"w\")\n",
    "        for f in files:\n",
    "            result = open(f\"./zinc_dataset/{x_char}{y_char}/{f}\")\n",
    "            for line in result:\n",
    "                output.write(line)\n",
    "\n",
    "            result.close()\n",
    "\n",
    "        output.close()\n",
    "        "
   ]
  },
  {
   "cell_type": "code",
   "execution_count": 10,
   "metadata": {},
   "outputs": [
    {
     "name": "stdout",
     "output_type": "stream",
     "text": [
      "10725863\n"
     ]
    }
   ],
   "source": [
    "# 1-2) check the total number of substances\n",
    "length = 0 \n",
    "\n",
    "x_char = chr(x)\n",
    "y_char = chr(y)\n",
    "files = os.listdir(f\"/home/dbsejrgus226/Huntington-s-Disease-Drug-Discovery/zinc_dataset_2\")\n",
    "\n",
    "        \n",
    "for f in files:\n",
    "    data = open(f\"./zinc_dataset_2/{f}\", \"r\", encoding=\"UTF8\")\n",
    "    lines = data.readlines()\n",
    "    ln = len(lines)\n",
    "    length += ln\n",
    "    data.close()\n",
    "\n",
    "\n",
    "print(length)"
   ]
  },
  {
   "cell_type": "code",
   "execution_count": 11,
   "metadata": {},
   "outputs": [],
   "source": [
    "# 2-1)each file is merged into one file\n",
    "x_char = chr(x)\n",
    "y_char = chr(y)\n",
    "outfilename = \"zinc_dataset_final.txt\"\n",
    "files = os.listdir(\"/home/dbsejrgus226/Huntington-s-Disease-Drug-Discovery/zinc_dataset_2\")\n",
    "\n",
    "output = open(outfilename, \"w\")\n",
    "for f in files:\n",
    "    result = open(f\"./zinc_dataset_2/{f}\")\n",
    "    for line in result:\n",
    "        output.write(line)\n",
    "\n",
    "    result.close()\n",
    "\n",
    "output.close()\n"
   ]
  },
  {
   "cell_type": "code",
   "execution_count": 14,
   "metadata": {},
   "outputs": [
    {
     "name": "stdout",
     "output_type": "stream",
     "text": [
      "10725863\n"
     ]
    }
   ],
   "source": [
    "# 2-2) check the total number of substances\n",
    "\n",
    "data = open(\"zinc_dataset_final.txt\", \"r\", encoding=\"UTF8\")\n",
    "lines = data.readlines()\n",
    "ln = len(lines)\n",
    "print(ln)\n",
    "data.close()\n",
    "\n"
   ]
  },
  {
   "cell_type": "code",
   "execution_count": 2,
   "metadata": {},
   "outputs": [
    {
     "name": "stderr",
     "output_type": "stream",
     "text": [
      "/tmp/ipykernel_908928/2588688388.py:3: DtypeWarning: Columns (1,3,4,5,6) have mixed types. Specify dtype option on import or set low_memory=False.\n",
      "  data = pd.read_csv(\"zinc_dataset_final.txt\", sep=\"\\t\", encoding=\"UTF-8\")\n"
     ]
    },
    {
     "data": {
      "text/html": [
       "<div>\n",
       "<style scoped>\n",
       "    .dataframe tbody tr th:only-of-type {\n",
       "        vertical-align: middle;\n",
       "    }\n",
       "\n",
       "    .dataframe tbody tr th {\n",
       "        vertical-align: top;\n",
       "    }\n",
       "\n",
       "    .dataframe thead th {\n",
       "        text-align: right;\n",
       "    }\n",
       "</style>\n",
       "<table border=\"1\" class=\"dataframe\">\n",
       "  <thead>\n",
       "    <tr style=\"text-align: right;\">\n",
       "      <th></th>\n",
       "      <th>smiles</th>\n",
       "      <th>zinc_id</th>\n",
       "      <th>inchikey</th>\n",
       "      <th>mwt</th>\n",
       "      <th>logp</th>\n",
       "      <th>reactive</th>\n",
       "      <th>purchasable</th>\n",
       "      <th>tranche_name</th>\n",
       "      <th>features</th>\n",
       "    </tr>\n",
       "  </thead>\n",
       "  <tbody>\n",
       "    <tr>\n",
       "      <th>0</th>\n",
       "      <td>O=C(/C=C/c1ccc(-c2ccc([N+](=O)[O-])cc2)o1)c1cc...</td>\n",
       "      <td>4158530</td>\n",
       "      <td>KBKYPWIHYIERCX-ZRDIBKRKSA-N</td>\n",
       "      <td>319.316</td>\n",
       "      <td>4.751</td>\n",
       "      <td>30</td>\n",
       "      <td>50</td>\n",
       "      <td>DJEA</td>\n",
       "      <td>NaN</td>\n",
       "    </tr>\n",
       "    <tr>\n",
       "      <th>1</th>\n",
       "      <td>C/C(=N\\Nc1cc(C)nc(-c2ccccc2)n1)c1ccc(C)cc1</td>\n",
       "      <td>4947375</td>\n",
       "      <td>KQHXLSNEYGETLI-XQNSMLJCSA-N</td>\n",
       "      <td>316.408</td>\n",
       "      <td>4.597</td>\n",
       "      <td>30</td>\n",
       "      <td>50</td>\n",
       "      <td>DJEA</td>\n",
       "      <td>NaN</td>\n",
       "    </tr>\n",
       "    <tr>\n",
       "      <th>2</th>\n",
       "      <td>C/C(=C\\C(=O)c1ccc(Br)cc1)Nc1ccccc1</td>\n",
       "      <td>6492573</td>\n",
       "      <td>JBAAPVWSORHMRD-VAWYXSNFSA-N</td>\n",
       "      <td>316.198</td>\n",
       "      <td>4.648</td>\n",
       "      <td>30</td>\n",
       "      <td>50</td>\n",
       "      <td>DJEA</td>\n",
       "      <td>NaN</td>\n",
       "    </tr>\n",
       "    <tr>\n",
       "      <th>3</th>\n",
       "      <td>O/N=C/c1cn(-c2ccccc2)nc1-c1ccc2ccccc2c1</td>\n",
       "      <td>827602456</td>\n",
       "      <td>HZVARPXYJDDNLA-FYJGNVAPSA-N</td>\n",
       "      <td>313.360</td>\n",
       "      <td>4.501</td>\n",
       "      <td>30</td>\n",
       "      <td>50</td>\n",
       "      <td>DJEA</td>\n",
       "      <td>NaN</td>\n",
       "    </tr>\n",
       "    <tr>\n",
       "      <th>4</th>\n",
       "      <td>Cc1ccc(C(=O)c2c(C)c(C#N)c3c4ccccc4ccn23)cc1</td>\n",
       "      <td>2544949</td>\n",
       "      <td>GRPYJFPZFJAWNG-UHFFFAOYSA-N</td>\n",
       "      <td>324.383</td>\n",
       "      <td>4.812</td>\n",
       "      <td>30</td>\n",
       "      <td>50</td>\n",
       "      <td>DJEA</td>\n",
       "      <td>NaN</td>\n",
       "    </tr>\n",
       "    <tr>\n",
       "      <th>...</th>\n",
       "      <td>...</td>\n",
       "      <td>...</td>\n",
       "      <td>...</td>\n",
       "      <td>...</td>\n",
       "      <td>...</td>\n",
       "      <td>...</td>\n",
       "      <td>...</td>\n",
       "      <td>...</td>\n",
       "      <td>...</td>\n",
       "    </tr>\n",
       "    <tr>\n",
       "      <th>10725857</th>\n",
       "      <td>CNS(=O)(=O)[C@H]1CCN(C(=O)CNCC(F)(F)F)C1</td>\n",
       "      <td>366652445</td>\n",
       "      <td>JUUHCQSXLHFMMQ-ZETCQYMHSA-N</td>\n",
       "      <td>303.306</td>\n",
       "      <td>-0.712</td>\n",
       "      <td>0</td>\n",
       "      <td>50</td>\n",
       "      <td>DBAA</td>\n",
       "      <td>NaN</td>\n",
       "    </tr>\n",
       "    <tr>\n",
       "      <th>10725858</th>\n",
       "      <td>CCn1nc(C)c(C(=O)N[C@H]2COC[C@H]2Oc2cnn(C)c2)n1</td>\n",
       "      <td>888093584</td>\n",
       "      <td>ILHVOUVVIWQKEX-NWDGAFQWSA-N</td>\n",
       "      <td>320.353</td>\n",
       "      <td>-0.084</td>\n",
       "      <td>0</td>\n",
       "      <td>50</td>\n",
       "      <td>DBAA</td>\n",
       "      <td>NaN</td>\n",
       "    </tr>\n",
       "    <tr>\n",
       "      <th>10725859</th>\n",
       "      <td>Cc1cc(S(=O)(=O)N2CC[C@]3(CNC(=O)CO3)C2)n(C)n1</td>\n",
       "      <td>1772805267</td>\n",
       "      <td>KJYBYCONSVQRNT-LBPRGKRZSA-N</td>\n",
       "      <td>314.367</td>\n",
       "      <td>-0.992</td>\n",
       "      <td>0</td>\n",
       "      <td>50</td>\n",
       "      <td>DBAA</td>\n",
       "      <td>NaN</td>\n",
       "    </tr>\n",
       "    <tr>\n",
       "      <th>10725860</th>\n",
       "      <td>CCN1CCC[C@H](N2CC(NC(=O)Cc3cnnn3C)C2)C1=O</td>\n",
       "      <td>1775961966</td>\n",
       "      <td>KQHOKIAUGITDGE-ZDUSSCGKSA-N</td>\n",
       "      <td>320.397</td>\n",
       "      <td>-0.831</td>\n",
       "      <td>0</td>\n",
       "      <td>50</td>\n",
       "      <td>DBAA</td>\n",
       "      <td>NaN</td>\n",
       "    </tr>\n",
       "    <tr>\n",
       "      <th>10725861</th>\n",
       "      <td>NCc1cn(-c2cccc(CNC(=O)N[C@H]3CCNC3)c2)nn1</td>\n",
       "      <td>1875335612</td>\n",
       "      <td>YJJJMLOOVNKQNP-LBPRGKRZSA-N</td>\n",
       "      <td>315.381</td>\n",
       "      <td>-0.113</td>\n",
       "      <td>0</td>\n",
       "      <td>50</td>\n",
       "      <td>DBAA</td>\n",
       "      <td>NaN</td>\n",
       "    </tr>\n",
       "  </tbody>\n",
       "</table>\n",
       "<p>10725862 rows × 9 columns</p>\n",
       "</div>"
      ],
      "text/plain": [
       "                                                     smiles     zinc_id  \\\n",
       "0         O=C(/C=C/c1ccc(-c2ccc([N+](=O)[O-])cc2)o1)c1cc...     4158530   \n",
       "1                C/C(=N\\Nc1cc(C)nc(-c2ccccc2)n1)c1ccc(C)cc1     4947375   \n",
       "2                        C/C(=C\\C(=O)c1ccc(Br)cc1)Nc1ccccc1     6492573   \n",
       "3                   O/N=C/c1cn(-c2ccccc2)nc1-c1ccc2ccccc2c1   827602456   \n",
       "4               Cc1ccc(C(=O)c2c(C)c(C#N)c3c4ccccc4ccn23)cc1     2544949   \n",
       "...                                                     ...         ...   \n",
       "10725857           CNS(=O)(=O)[C@H]1CCN(C(=O)CNCC(F)(F)F)C1   366652445   \n",
       "10725858     CCn1nc(C)c(C(=O)N[C@H]2COC[C@H]2Oc2cnn(C)c2)n1   888093584   \n",
       "10725859      Cc1cc(S(=O)(=O)N2CC[C@]3(CNC(=O)CO3)C2)n(C)n1  1772805267   \n",
       "10725860          CCN1CCC[C@H](N2CC(NC(=O)Cc3cnnn3C)C2)C1=O  1775961966   \n",
       "10725861          NCc1cn(-c2cccc(CNC(=O)N[C@H]3CCNC3)c2)nn1  1875335612   \n",
       "\n",
       "                             inchikey      mwt    logp reactive purchasable  \\\n",
       "0         KBKYPWIHYIERCX-ZRDIBKRKSA-N  319.316   4.751       30          50   \n",
       "1         KQHXLSNEYGETLI-XQNSMLJCSA-N  316.408   4.597       30          50   \n",
       "2         JBAAPVWSORHMRD-VAWYXSNFSA-N  316.198   4.648       30          50   \n",
       "3         HZVARPXYJDDNLA-FYJGNVAPSA-N  313.360   4.501       30          50   \n",
       "4         GRPYJFPZFJAWNG-UHFFFAOYSA-N  324.383   4.812       30          50   \n",
       "...                               ...      ...     ...      ...         ...   \n",
       "10725857  JUUHCQSXLHFMMQ-ZETCQYMHSA-N  303.306  -0.712        0          50   \n",
       "10725858  ILHVOUVVIWQKEX-NWDGAFQWSA-N  320.353  -0.084        0          50   \n",
       "10725859  KJYBYCONSVQRNT-LBPRGKRZSA-N  314.367  -0.992        0          50   \n",
       "10725860  KQHOKIAUGITDGE-ZDUSSCGKSA-N  320.397  -0.831        0          50   \n",
       "10725861  YJJJMLOOVNKQNP-LBPRGKRZSA-N  315.381  -0.113        0          50   \n",
       "\n",
       "         tranche_name features  \n",
       "0                DJEA      NaN  \n",
       "1                DJEA      NaN  \n",
       "2                DJEA      NaN  \n",
       "3                DJEA      NaN  \n",
       "4                DJEA      NaN  \n",
       "...               ...      ...  \n",
       "10725857         DBAA      NaN  \n",
       "10725858         DBAA      NaN  \n",
       "10725859         DBAA      NaN  \n",
       "10725860         DBAA      NaN  \n",
       "10725861         DBAA      NaN  \n",
       "\n",
       "[10725862 rows x 9 columns]"
      ]
     },
     "execution_count": 2,
     "metadata": {},
     "output_type": "execute_result"
    }
   ],
   "source": [
    "import pandas as pd\n",
    "\n",
    "data = pd.read_csv(\"zinc_dataset_final.txt\", sep=\"\\t\", encoding=\"UTF-8\")\n",
    "data"
   ]
  },
  {
   "cell_type": "code",
   "execution_count": 3,
   "metadata": {},
   "outputs": [
    {
     "data": {
      "text/html": [
       "<div>\n",
       "<style scoped>\n",
       "    .dataframe tbody tr th:only-of-type {\n",
       "        vertical-align: middle;\n",
       "    }\n",
       "\n",
       "    .dataframe tbody tr th {\n",
       "        vertical-align: top;\n",
       "    }\n",
       "\n",
       "    .dataframe thead th {\n",
       "        text-align: right;\n",
       "    }\n",
       "</style>\n",
       "<table border=\"1\" class=\"dataframe\">\n",
       "  <thead>\n",
       "    <tr style=\"text-align: right;\">\n",
       "      <th></th>\n",
       "      <th>zinc_id</th>\n",
       "      <th>smiles</th>\n",
       "    </tr>\n",
       "  </thead>\n",
       "  <tbody>\n",
       "    <tr>\n",
       "      <th>0</th>\n",
       "      <td>4158530</td>\n",
       "      <td>O=C(/C=C/c1ccc(-c2ccc([N+](=O)[O-])cc2)o1)c1cc...</td>\n",
       "    </tr>\n",
       "    <tr>\n",
       "      <th>1</th>\n",
       "      <td>4947375</td>\n",
       "      <td>C/C(=N\\Nc1cc(C)nc(-c2ccccc2)n1)c1ccc(C)cc1</td>\n",
       "    </tr>\n",
       "    <tr>\n",
       "      <th>2</th>\n",
       "      <td>6492573</td>\n",
       "      <td>C/C(=C\\C(=O)c1ccc(Br)cc1)Nc1ccccc1</td>\n",
       "    </tr>\n",
       "    <tr>\n",
       "      <th>3</th>\n",
       "      <td>827602456</td>\n",
       "      <td>O/N=C/c1cn(-c2ccccc2)nc1-c1ccc2ccccc2c1</td>\n",
       "    </tr>\n",
       "    <tr>\n",
       "      <th>4</th>\n",
       "      <td>2544949</td>\n",
       "      <td>Cc1ccc(C(=O)c2c(C)c(C#N)c3c4ccccc4ccn23)cc1</td>\n",
       "    </tr>\n",
       "    <tr>\n",
       "      <th>...</th>\n",
       "      <td>...</td>\n",
       "      <td>...</td>\n",
       "    </tr>\n",
       "    <tr>\n",
       "      <th>10725857</th>\n",
       "      <td>366652445</td>\n",
       "      <td>CNS(=O)(=O)[C@H]1CCN(C(=O)CNCC(F)(F)F)C1</td>\n",
       "    </tr>\n",
       "    <tr>\n",
       "      <th>10725858</th>\n",
       "      <td>888093584</td>\n",
       "      <td>CCn1nc(C)c(C(=O)N[C@H]2COC[C@H]2Oc2cnn(C)c2)n1</td>\n",
       "    </tr>\n",
       "    <tr>\n",
       "      <th>10725859</th>\n",
       "      <td>1772805267</td>\n",
       "      <td>Cc1cc(S(=O)(=O)N2CC[C@]3(CNC(=O)CO3)C2)n(C)n1</td>\n",
       "    </tr>\n",
       "    <tr>\n",
       "      <th>10725860</th>\n",
       "      <td>1775961966</td>\n",
       "      <td>CCN1CCC[C@H](N2CC(NC(=O)Cc3cnnn3C)C2)C1=O</td>\n",
       "    </tr>\n",
       "    <tr>\n",
       "      <th>10725861</th>\n",
       "      <td>1875335612</td>\n",
       "      <td>NCc1cn(-c2cccc(CNC(=O)N[C@H]3CCNC3)c2)nn1</td>\n",
       "    </tr>\n",
       "  </tbody>\n",
       "</table>\n",
       "<p>10725862 rows × 2 columns</p>\n",
       "</div>"
      ],
      "text/plain": [
       "             zinc_id                                             smiles\n",
       "0            4158530  O=C(/C=C/c1ccc(-c2ccc([N+](=O)[O-])cc2)o1)c1cc...\n",
       "1            4947375         C/C(=N\\Nc1cc(C)nc(-c2ccccc2)n1)c1ccc(C)cc1\n",
       "2            6492573                 C/C(=C\\C(=O)c1ccc(Br)cc1)Nc1ccccc1\n",
       "3          827602456            O/N=C/c1cn(-c2ccccc2)nc1-c1ccc2ccccc2c1\n",
       "4            2544949        Cc1ccc(C(=O)c2c(C)c(C#N)c3c4ccccc4ccn23)cc1\n",
       "...              ...                                                ...\n",
       "10725857   366652445           CNS(=O)(=O)[C@H]1CCN(C(=O)CNCC(F)(F)F)C1\n",
       "10725858   888093584     CCn1nc(C)c(C(=O)N[C@H]2COC[C@H]2Oc2cnn(C)c2)n1\n",
       "10725859  1772805267      Cc1cc(S(=O)(=O)N2CC[C@]3(CNC(=O)CO3)C2)n(C)n1\n",
       "10725860  1775961966          CCN1CCC[C@H](N2CC(NC(=O)Cc3cnnn3C)C2)C1=O\n",
       "10725861  1875335612          NCc1cn(-c2cccc(CNC(=O)N[C@H]3CCNC3)c2)nn1\n",
       "\n",
       "[10725862 rows x 2 columns]"
      ]
     },
     "execution_count": 3,
     "metadata": {},
     "output_type": "execute_result"
    }
   ],
   "source": [
    "selection = [\"zinc_id\", \"smiles\"]\n",
    "data = data[selection]\n",
    "data"
   ]
  },
  {
   "cell_type": "code",
   "execution_count": 4,
   "metadata": {},
   "outputs": [
    {
     "data": {
      "text/plain": [
       "zinc_id    0\n",
       "smiles     0\n",
       "dtype: int64"
      ]
     },
     "execution_count": 4,
     "metadata": {},
     "output_type": "execute_result"
    }
   ],
   "source": [
    "data.isnull().sum()"
   ]
  }
 ],
 "metadata": {
  "kernelspec": {
   "display_name": "huntington",
   "language": "python",
   "name": "python3"
  },
  "language_info": {
   "codemirror_mode": {
    "name": "ipython",
    "version": 3
   },
   "file_extension": ".py",
   "mimetype": "text/x-python",
   "name": "python",
   "nbconvert_exporter": "python",
   "pygments_lexer": "ipython3",
   "version": "3.8.18"
  }
 },
 "nbformat": 4,
 "nbformat_minor": 2
}
