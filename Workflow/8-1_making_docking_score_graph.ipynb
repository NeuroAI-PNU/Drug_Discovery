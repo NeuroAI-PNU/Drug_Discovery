{
 "cells": [
  {
   "cell_type": "code",
   "execution_count": 1,
   "metadata": {},
   "outputs": [],
   "source": [
    "import pandas as pd\n",
    "import matplotlib.pyplot as plt\n",
    "import seaborn as sns\n",
    "\n",
    "%matplotlib inline"
   ]
  },
  {
   "cell_type": "code",
   "execution_count": null,
   "metadata": {},
   "outputs": [
    {
     "data": {
      "text/html": [
       "<div>\n",
       "<style scoped>\n",
       "    .dataframe tbody tr th:only-of-type {\n",
       "        vertical-align: middle;\n",
       "    }\n",
       "\n",
       "    .dataframe tbody tr th {\n",
       "        vertical-align: top;\n",
       "    }\n",
       "\n",
       "    .dataframe thead th {\n",
       "        text-align: right;\n",
       "    }\n",
       "</style>\n",
       "<table border=\"1\" class=\"dataframe\">\n",
       "  <thead>\n",
       "    <tr style=\"text-align: right;\">\n",
       "      <th></th>\n",
       "      <th>smiles</th>\n",
       "      <th>zinc_id</th>\n",
       "      <th>MolWt</th>\n",
       "      <th>LogP</th>\n",
       "      <th>HDonors</th>\n",
       "      <th>HAcceptors</th>\n",
       "      <th>cluster</th>\n",
       "      <th>docking_score</th>\n",
       "    </tr>\n",
       "  </thead>\n",
       "  <tbody>\n",
       "    <tr>\n",
       "      <th>0</th>\n",
       "      <td>Cc1ccc([C@@H]2C(C(=O)c3cc(C)ccc3C)=C(O)C(=O)N2...</td>\n",
       "      <td>20167026</td>\n",
       "      <td>448.563</td>\n",
       "      <td>3.91246</td>\n",
       "      <td>1.0</td>\n",
       "      <td>5.0</td>\n",
       "      <td>6</td>\n",
       "      <td>-7.5</td>\n",
       "    </tr>\n",
       "    <tr>\n",
       "      <th>1</th>\n",
       "      <td>C[C@@H]1CC=C[C@@H]2[C@@H]3O[C@]3(C)[C@H](C)[C@...</td>\n",
       "      <td>2332926187</td>\n",
       "      <td>449.591</td>\n",
       "      <td>3.71220</td>\n",
       "      <td>1.0</td>\n",
       "      <td>4.0</td>\n",
       "      <td>6</td>\n",
       "      <td>-8.4</td>\n",
       "    </tr>\n",
       "    <tr>\n",
       "      <th>2</th>\n",
       "      <td>COc1ccccc1/C=C1\\SC(Nc2ccccc2)=C(C(=O)NC2CCN(C)...</td>\n",
       "      <td>2080317858</td>\n",
       "      <td>449.576</td>\n",
       "      <td>3.88610</td>\n",
       "      <td>2.0</td>\n",
       "      <td>6.0</td>\n",
       "      <td>6</td>\n",
       "      <td>-8.0</td>\n",
       "    </tr>\n",
       "    <tr>\n",
       "      <th>3</th>\n",
       "      <td>C#CCOc1c(I)cc([C@H]2NC(=O)c3ccccc3O2)cc1OCC</td>\n",
       "      <td>12411410</td>\n",
       "      <td>449.244</td>\n",
       "      <td>3.52290</td>\n",
       "      <td>1.0</td>\n",
       "      <td>4.0</td>\n",
       "      <td>6</td>\n",
       "      <td>-7.1</td>\n",
       "    </tr>\n",
       "    <tr>\n",
       "      <th>4</th>\n",
       "      <td>C=C(C)CN1C(=O)N[C@@](CC)(C2CCN(C(=O)c3cc(C)nc4...</td>\n",
       "      <td>11782598</td>\n",
       "      <td>448.567</td>\n",
       "      <td>3.98054</td>\n",
       "      <td>1.0</td>\n",
       "      <td>4.0</td>\n",
       "      <td>6</td>\n",
       "      <td>-9.1</td>\n",
       "    </tr>\n",
       "  </tbody>\n",
       "</table>\n",
       "</div>"
      ],
      "text/plain": [
       "                                              smiles     zinc_id    MolWt  \\\n",
       "0  Cc1ccc([C@@H]2C(C(=O)c3cc(C)ccc3C)=C(O)C(=O)N2...    20167026  448.563   \n",
       "1  C[C@@H]1CC=C[C@@H]2[C@@H]3O[C@]3(C)[C@H](C)[C@...  2332926187  449.591   \n",
       "2  COc1ccccc1/C=C1\\SC(Nc2ccccc2)=C(C(=O)NC2CCN(C)...  2080317858  449.576   \n",
       "3        C#CCOc1c(I)cc([C@H]2NC(=O)c3ccccc3O2)cc1OCC    12411410  449.244   \n",
       "4  C=C(C)CN1C(=O)N[C@@](CC)(C2CCN(C(=O)c3cc(C)nc4...    11782598  448.567   \n",
       "\n",
       "      LogP  HDonors  HAcceptors  cluster  docking_score  \n",
       "0  3.91246      1.0         5.0        6           -7.5  \n",
       "1  3.71220      1.0         4.0        6           -8.4  \n",
       "2  3.88610      2.0         6.0        6           -8.0  \n",
       "3  3.52290      1.0         4.0        6           -7.1  \n",
       "4  3.98054      1.0         4.0        6           -9.1  "
      ]
     },
     "execution_count": 2,
     "metadata": {},
     "output_type": "execute_result"
    }
   ],
   "source": [
    "lipinski_data = pd.read_csv(\"merged_docking_data_based_lipinski's_features.csv\", index_col=0, low_memory=False)\n",
    "lipinski_data.head()"
   ]
  },
  {
   "cell_type": "code",
   "execution_count": 3,
   "metadata": {},
   "outputs": [
    {
     "name": "stdout",
     "output_type": "stream",
     "text": [
      "29301\n"
     ]
    }
   ],
   "source": [
    "count = []\n",
    "for i in range(len(lipinski_data)):\n",
    "    if lipinski_data[\"docking_score\"][i] < -8:\n",
    "        count.append(lipinski_data[\"docking_score\"][i])\n",
    "\n",
    "print(len(count))"
   ]
  },
  {
   "cell_type": "code",
   "execution_count": 4,
   "metadata": {},
   "outputs": [
    {
     "name": "stdout",
     "output_type": "stream",
     "text": [
      "4200\n"
     ]
    }
   ],
   "source": [
    "count = []\n",
    "for i in range(len(lipinski_data)):\n",
    "    if lipinski_data[\"docking_score\"][i] < -9:\n",
    "        count.append(lipinski_data[\"docking_score\"][i])\n",
    "\n",
    "print(len(count))"
   ]
  },
  {
   "cell_type": "code",
   "execution_count": 5,
   "metadata": {},
   "outputs": [
    {
     "name": "stdout",
     "output_type": "stream",
     "text": [
      "23\n"
     ]
    }
   ],
   "source": [
    "count = []\n",
    "for i in range(len(lipinski_data)):\n",
    "    if lipinski_data[\"docking_score\"][i] < -10:\n",
    "        count.append(lipinski_data[\"docking_score\"][i])\n",
    "\n",
    "print(len(count))"
   ]
  },
  {
   "cell_type": "code",
   "execution_count": null,
   "metadata": {},
   "outputs": [
    {
     "data": {
      "text/html": [
       "<div>\n",
       "<style scoped>\n",
       "    .dataframe tbody tr th:only-of-type {\n",
       "        vertical-align: middle;\n",
       "    }\n",
       "\n",
       "    .dataframe tbody tr th {\n",
       "        vertical-align: top;\n",
       "    }\n",
       "\n",
       "    .dataframe thead th {\n",
       "        text-align: right;\n",
       "    }\n",
       "</style>\n",
       "<table border=\"1\" class=\"dataframe\">\n",
       "  <thead>\n",
       "    <tr style=\"text-align: right;\">\n",
       "      <th></th>\n",
       "      <th>smiles</th>\n",
       "      <th>zinc_id</th>\n",
       "      <th>tanimoto_similarity</th>\n",
       "      <th>docking_score</th>\n",
       "    </tr>\n",
       "  </thead>\n",
       "  <tbody>\n",
       "    <tr>\n",
       "      <th>0</th>\n",
       "      <td>COCCOc1ccc(C(F)(F)F)cc1NC(=O)C1CCN(c2ccc(C#N)c...</td>\n",
       "      <td>24715307</td>\n",
       "      <td>0.802817</td>\n",
       "      <td>-8.6</td>\n",
       "    </tr>\n",
       "    <tr>\n",
       "      <th>1</th>\n",
       "      <td>C#CCOc1ccc(CCNC(=O)Nc2cc(C(F)(F)F)ccc2N2CCOCC2...</td>\n",
       "      <td>72278478</td>\n",
       "      <td>0.852941</td>\n",
       "      <td>-9.6</td>\n",
       "    </tr>\n",
       "    <tr>\n",
       "      <th>2</th>\n",
       "      <td>O=C(COc1ccc(NC(=O)C2(c3ccccc3F)CCOCC2)cc1)N1CCCC1</td>\n",
       "      <td>225570998</td>\n",
       "      <td>0.811594</td>\n",
       "      <td>-8.5</td>\n",
       "    </tr>\n",
       "    <tr>\n",
       "      <th>3</th>\n",
       "      <td>COc1ccc(C(=O)Nc2cc(C(F)(F)F)ccc2N2CCOCC2)c(OC)...</td>\n",
       "      <td>12608018</td>\n",
       "      <td>0.826087</td>\n",
       "      <td>-7.9</td>\n",
       "    </tr>\n",
       "    <tr>\n",
       "      <th>4</th>\n",
       "      <td>COc1cccc(NC(=O)N2CC[C@@H]3CN(c4ccc(C(F)(F)F)cn...</td>\n",
       "      <td>1889197941</td>\n",
       "      <td>0.842857</td>\n",
       "      <td>-6.6</td>\n",
       "    </tr>\n",
       "  </tbody>\n",
       "</table>\n",
       "</div>"
      ],
      "text/plain": [
       "                                              smiles     zinc_id  \\\n",
       "0  COCCOc1ccc(C(F)(F)F)cc1NC(=O)C1CCN(c2ccc(C#N)c...    24715307   \n",
       "1  C#CCOc1ccc(CCNC(=O)Nc2cc(C(F)(F)F)ccc2N2CCOCC2...    72278478   \n",
       "2  O=C(COc1ccc(NC(=O)C2(c3ccccc3F)CCOCC2)cc1)N1CCCC1   225570998   \n",
       "3  COc1ccc(C(=O)Nc2cc(C(F)(F)F)ccc2N2CCOCC2)c(OC)...    12608018   \n",
       "4  COc1cccc(NC(=O)N2CC[C@@H]3CN(c4ccc(C(F)(F)F)cn...  1889197941   \n",
       "\n",
       "   tanimoto_similarity  docking_score  \n",
       "0             0.802817           -8.6  \n",
       "1             0.852941           -9.6  \n",
       "2             0.811594           -8.5  \n",
       "3             0.826087           -7.9  \n",
       "4             0.842857           -6.6  "
      ]
     },
     "execution_count": 6,
     "metadata": {},
     "output_type": "execute_result"
    }
   ],
   "source": [
    "tanimoto_data = pd.read_csv(\"merged_docking_data_based_tanimoto_similarity.csv\", index_col=0, low_memory=False)\n",
    "tanimoto_data.head()"
   ]
  },
  {
   "cell_type": "code",
   "execution_count": 7,
   "metadata": {},
   "outputs": [
    {
     "name": "stdout",
     "output_type": "stream",
     "text": [
      "1904\n"
     ]
    }
   ],
   "source": [
    "count = []\n",
    "for i in range(len(tanimoto_data)):\n",
    "    if tanimoto_data[\"docking_score\"][i] < -8:\n",
    "        count.append(tanimoto_data[\"docking_score\"][i])\n",
    "\n",
    "print(len(count))"
   ]
  },
  {
   "cell_type": "code",
   "execution_count": 8,
   "metadata": {},
   "outputs": [
    {
     "name": "stdout",
     "output_type": "stream",
     "text": [
      "271\n"
     ]
    }
   ],
   "source": [
    "count = []\n",
    "for i in range(len(tanimoto_data)):\n",
    "    if tanimoto_data[\"docking_score\"][i] < -9:\n",
    "        count.append(tanimoto_data[\"docking_score\"][i])\n",
    "\n",
    "print(len(count))"
   ]
  },
  {
   "cell_type": "code",
   "execution_count": null,
   "metadata": {},
   "outputs": [
    {
     "data": {
      "text/html": [
       "<div>\n",
       "<style scoped>\n",
       "    .dataframe tbody tr th:only-of-type {\n",
       "        vertical-align: middle;\n",
       "    }\n",
       "\n",
       "    .dataframe tbody tr th {\n",
       "        vertical-align: top;\n",
       "    }\n",
       "\n",
       "    .dataframe thead th {\n",
       "        text-align: right;\n",
       "    }\n",
       "</style>\n",
       "<table border=\"1\" class=\"dataframe\">\n",
       "  <thead>\n",
       "    <tr style=\"text-align: right;\">\n",
       "      <th></th>\n",
       "      <th>Unnamed: 0</th>\n",
       "      <th>smiles</th>\n",
       "      <th>zinc_id</th>\n",
       "      <th>MolWt</th>\n",
       "      <th>LogP</th>\n",
       "      <th>HDonors</th>\n",
       "      <th>HAcceptors</th>\n",
       "      <th>cluster</th>\n",
       "      <th>docking_score_lipinski</th>\n",
       "      <th>tanimoto_similarity</th>\n",
       "      <th>docking_score_tanimoto</th>\n",
       "    </tr>\n",
       "  </thead>\n",
       "  <tbody>\n",
       "    <tr>\n",
       "      <th>0</th>\n",
       "      <td>0</td>\n",
       "      <td>COc1ccc(C2(C(=O)N3CCN(c4ccc(C(F)(F)F)cn4)CC3)C...</td>\n",
       "      <td>72402142</td>\n",
       "      <td>449.473</td>\n",
       "      <td>3.5060</td>\n",
       "      <td>0</td>\n",
       "      <td>5</td>\n",
       "      <td>6</td>\n",
       "      <td>-7.2</td>\n",
       "      <td>0.803030</td>\n",
       "      <td>-7.8</td>\n",
       "    </tr>\n",
       "    <tr>\n",
       "      <th>1</th>\n",
       "      <td>1</td>\n",
       "      <td>CC(=O)c1ccc(OCCCC(=O)Nc2cc(C(F)(F)F)ccc2N2CCOC...</td>\n",
       "      <td>9632279</td>\n",
       "      <td>450.457</td>\n",
       "      <td>4.5423</td>\n",
       "      <td>1</td>\n",
       "      <td>5</td>\n",
       "      <td>6</td>\n",
       "      <td>-8.1</td>\n",
       "      <td>0.850746</td>\n",
       "      <td>-7.9</td>\n",
       "    </tr>\n",
       "    <tr>\n",
       "      <th>2</th>\n",
       "      <td>2</td>\n",
       "      <td>C/C=C/c1ccc(OCC(=O)Nc2cc(C(F)(F)F)ccc2N2CCOCC2...</td>\n",
       "      <td>15940645</td>\n",
       "      <td>450.457</td>\n",
       "      <td>4.6012</td>\n",
       "      <td>1</td>\n",
       "      <td>5</td>\n",
       "      <td>6</td>\n",
       "      <td>-8.7</td>\n",
       "      <td>0.826087</td>\n",
       "      <td>-7.9</td>\n",
       "    </tr>\n",
       "    <tr>\n",
       "      <th>3</th>\n",
       "      <td>3</td>\n",
       "      <td>O=C(CN(Cc1ccco1)C1CCCC1)Nc1cc(C(F)(F)F)ccc1N1C...</td>\n",
       "      <td>58010304</td>\n",
       "      <td>451.489</td>\n",
       "      <td>4.5183</td>\n",
       "      <td>1</td>\n",
       "      <td>5</td>\n",
       "      <td>6</td>\n",
       "      <td>-8.0</td>\n",
       "      <td>0.815385</td>\n",
       "      <td>-5.9</td>\n",
       "    </tr>\n",
       "    <tr>\n",
       "      <th>4</th>\n",
       "      <td>4</td>\n",
       "      <td>COc1ccccc1NC(=O)N1CCC(CNC(=O)Nc2cccc(C(F)(F)F)...</td>\n",
       "      <td>44005198</td>\n",
       "      <td>450.461</td>\n",
       "      <td>4.7796</td>\n",
       "      <td>3</td>\n",
       "      <td>3</td>\n",
       "      <td>6</td>\n",
       "      <td>-8.3</td>\n",
       "      <td>0.805970</td>\n",
       "      <td>-7.5</td>\n",
       "    </tr>\n",
       "  </tbody>\n",
       "</table>\n",
       "</div>"
      ],
      "text/plain": [
       "   Unnamed: 0                                             smiles   zinc_id  \\\n",
       "0           0  COc1ccc(C2(C(=O)N3CCN(c4ccc(C(F)(F)F)cn4)CC3)C...  72402142   \n",
       "1           1  CC(=O)c1ccc(OCCCC(=O)Nc2cc(C(F)(F)F)ccc2N2CCOC...   9632279   \n",
       "2           2  C/C=C/c1ccc(OCC(=O)Nc2cc(C(F)(F)F)ccc2N2CCOCC2...  15940645   \n",
       "3           3  O=C(CN(Cc1ccco1)C1CCCC1)Nc1cc(C(F)(F)F)ccc1N1C...  58010304   \n",
       "4           4  COc1ccccc1NC(=O)N1CCC(CNC(=O)Nc2cccc(C(F)(F)F)...  44005198   \n",
       "\n",
       "     MolWt    LogP  HDonors  HAcceptors  cluster  docking_score_lipinski  \\\n",
       "0  449.473  3.5060        0           5        6                    -7.2   \n",
       "1  450.457  4.5423        1           5        6                    -8.1   \n",
       "2  450.457  4.6012        1           5        6                    -8.7   \n",
       "3  451.489  4.5183        1           5        6                    -8.0   \n",
       "4  450.461  4.7796        3           3        6                    -8.3   \n",
       "\n",
       "   tanimoto_similarity  docking_score_tanimoto  \n",
       "0             0.803030                    -7.8  \n",
       "1             0.850746                    -7.9  \n",
       "2             0.826087                    -7.9  \n",
       "3             0.815385                    -5.9  \n",
       "4             0.805970                    -7.5  "
      ]
     },
     "execution_count": 9,
     "metadata": {},
     "output_type": "execute_result"
    }
   ],
   "source": [
    "common_data = pd.read_csv(\"final_common_data_between_lipinski_and_tanimoto.csv\")\n",
    "common_data.head()"
   ]
  },
  {
   "cell_type": "code",
   "execution_count": 10,
   "metadata": {},
   "outputs": [
    {
     "data": {
      "text/html": [
       "<div>\n",
       "<style scoped>\n",
       "    .dataframe tbody tr th:only-of-type {\n",
       "        vertical-align: middle;\n",
       "    }\n",
       "\n",
       "    .dataframe tbody tr th {\n",
       "        vertical-align: top;\n",
       "    }\n",
       "\n",
       "    .dataframe thead th {\n",
       "        text-align: right;\n",
       "    }\n",
       "</style>\n",
       "<table border=\"1\" class=\"dataframe\">\n",
       "  <thead>\n",
       "    <tr style=\"text-align: right;\">\n",
       "      <th></th>\n",
       "      <th>smiles</th>\n",
       "      <th>zinc_id</th>\n",
       "      <th>MolWt</th>\n",
       "      <th>LogP</th>\n",
       "      <th>HDonors</th>\n",
       "      <th>HAcceptors</th>\n",
       "      <th>cluster</th>\n",
       "      <th>docking_score_lipinski</th>\n",
       "      <th>tanimoto_similarity</th>\n",
       "      <th>docking_score_tanimoto</th>\n",
       "    </tr>\n",
       "  </thead>\n",
       "  <tbody>\n",
       "    <tr>\n",
       "      <th>0</th>\n",
       "      <td>COc1ccc(C2(C(=O)N3CCN(c4ccc(C(F)(F)F)cn4)CC3)C...</td>\n",
       "      <td>72402142</td>\n",
       "      <td>449.473</td>\n",
       "      <td>3.5060</td>\n",
       "      <td>0</td>\n",
       "      <td>5</td>\n",
       "      <td>6</td>\n",
       "      <td>-7.2</td>\n",
       "      <td>0.803030</td>\n",
       "      <td>-7.8</td>\n",
       "    </tr>\n",
       "    <tr>\n",
       "      <th>1</th>\n",
       "      <td>CC(=O)c1ccc(OCCCC(=O)Nc2cc(C(F)(F)F)ccc2N2CCOC...</td>\n",
       "      <td>9632279</td>\n",
       "      <td>450.457</td>\n",
       "      <td>4.5423</td>\n",
       "      <td>1</td>\n",
       "      <td>5</td>\n",
       "      <td>6</td>\n",
       "      <td>-8.1</td>\n",
       "      <td>0.850746</td>\n",
       "      <td>-7.9</td>\n",
       "    </tr>\n",
       "    <tr>\n",
       "      <th>2</th>\n",
       "      <td>C/C=C/c1ccc(OCC(=O)Nc2cc(C(F)(F)F)ccc2N2CCOCC2...</td>\n",
       "      <td>15940645</td>\n",
       "      <td>450.457</td>\n",
       "      <td>4.6012</td>\n",
       "      <td>1</td>\n",
       "      <td>5</td>\n",
       "      <td>6</td>\n",
       "      <td>-8.7</td>\n",
       "      <td>0.826087</td>\n",
       "      <td>-7.9</td>\n",
       "    </tr>\n",
       "    <tr>\n",
       "      <th>3</th>\n",
       "      <td>O=C(CN(Cc1ccco1)C1CCCC1)Nc1cc(C(F)(F)F)ccc1N1C...</td>\n",
       "      <td>58010304</td>\n",
       "      <td>451.489</td>\n",
       "      <td>4.5183</td>\n",
       "      <td>1</td>\n",
       "      <td>5</td>\n",
       "      <td>6</td>\n",
       "      <td>-8.0</td>\n",
       "      <td>0.815385</td>\n",
       "      <td>-5.9</td>\n",
       "    </tr>\n",
       "    <tr>\n",
       "      <th>4</th>\n",
       "      <td>COc1ccccc1NC(=O)N1CCC(CNC(=O)Nc2cccc(C(F)(F)F)...</td>\n",
       "      <td>44005198</td>\n",
       "      <td>450.461</td>\n",
       "      <td>4.7796</td>\n",
       "      <td>3</td>\n",
       "      <td>3</td>\n",
       "      <td>6</td>\n",
       "      <td>-8.3</td>\n",
       "      <td>0.805970</td>\n",
       "      <td>-7.5</td>\n",
       "    </tr>\n",
       "  </tbody>\n",
       "</table>\n",
       "</div>"
      ],
      "text/plain": [
       "                                              smiles   zinc_id    MolWt  \\\n",
       "0  COc1ccc(C2(C(=O)N3CCN(c4ccc(C(F)(F)F)cn4)CC3)C...  72402142  449.473   \n",
       "1  CC(=O)c1ccc(OCCCC(=O)Nc2cc(C(F)(F)F)ccc2N2CCOC...   9632279  450.457   \n",
       "2  C/C=C/c1ccc(OCC(=O)Nc2cc(C(F)(F)F)ccc2N2CCOCC2...  15940645  450.457   \n",
       "3  O=C(CN(Cc1ccco1)C1CCCC1)Nc1cc(C(F)(F)F)ccc1N1C...  58010304  451.489   \n",
       "4  COc1ccccc1NC(=O)N1CCC(CNC(=O)Nc2cccc(C(F)(F)F)...  44005198  450.461   \n",
       "\n",
       "     LogP  HDonors  HAcceptors  cluster  docking_score_lipinski  \\\n",
       "0  3.5060        0           5        6                    -7.2   \n",
       "1  4.5423        1           5        6                    -8.1   \n",
       "2  4.6012        1           5        6                    -8.7   \n",
       "3  4.5183        1           5        6                    -8.0   \n",
       "4  4.7796        3           3        6                    -8.3   \n",
       "\n",
       "   tanimoto_similarity  docking_score_tanimoto  \n",
       "0             0.803030                    -7.8  \n",
       "1             0.850746                    -7.9  \n",
       "2             0.826087                    -7.9  \n",
       "3             0.815385                    -5.9  \n",
       "4             0.805970                    -7.5  "
      ]
     },
     "execution_count": 10,
     "metadata": {},
     "output_type": "execute_result"
    }
   ],
   "source": [
    "common_data.drop(columns=[\"Unnamed: 0\"], inplace=True)\n",
    "common_data.head()"
   ]
  },
  {
   "cell_type": "code",
   "execution_count": 11,
   "metadata": {},
   "outputs": [
    {
     "name": "stdout",
     "output_type": "stream",
     "text": [
      "65124\n",
      "5159\n",
      "39\n"
     ]
    }
   ],
   "source": [
    "print(len(lipinski_data))\n",
    "print(len(tanimoto_data))\n",
    "print(len(common_data))"
   ]
  },
  {
   "cell_type": "markdown",
   "metadata": {},
   "source": [
    "merging three data"
   ]
  },
  {
   "cell_type": "code",
   "execution_count": null,
   "metadata": {},
   "outputs": [],
   "source": [
    "for i in common_data[\"zinc_id\"]:\n",
    "    if i in tanimoto_data[\"zinc_id\"].values:\n",
    "        index = tanimoto_data[tanimoto_data[\"zinc_id\"] == i].index\n",
    "        tanimoto_data.drop(index, inplace=True)"
   ]
  },
  {
   "cell_type": "code",
   "execution_count": null,
   "metadata": {},
   "outputs": [
    {
     "data": {
      "text/plain": [
       "5120"
      ]
     },
     "execution_count": 21,
     "metadata": {},
     "output_type": "execute_result"
    }
   ],
   "source": [
    "len(tanimoto_data)"
   ]
  },
  {
   "cell_type": "code",
   "execution_count": null,
   "metadata": {},
   "outputs": [
    {
     "data": {
      "text/html": [
       "<div>\n",
       "<style scoped>\n",
       "    .dataframe tbody tr th:only-of-type {\n",
       "        vertical-align: middle;\n",
       "    }\n",
       "\n",
       "    .dataframe tbody tr th {\n",
       "        vertical-align: top;\n",
       "    }\n",
       "\n",
       "    .dataframe thead th {\n",
       "        text-align: right;\n",
       "    }\n",
       "</style>\n",
       "<table border=\"1\" class=\"dataframe\">\n",
       "  <thead>\n",
       "    <tr style=\"text-align: right;\">\n",
       "      <th></th>\n",
       "      <th>smiles</th>\n",
       "      <th>zinc_id</th>\n",
       "      <th>tanimoto_similarity</th>\n",
       "      <th>docking_score</th>\n",
       "    </tr>\n",
       "  </thead>\n",
       "  <tbody>\n",
       "    <tr>\n",
       "      <th>5115</th>\n",
       "      <td>COc1ccc2c(C)c(C(=O)N[C@@H]3CCCN(c4ccc(C(F)(F)F...</td>\n",
       "      <td>19720357</td>\n",
       "      <td>0.830986</td>\n",
       "      <td>-6.7</td>\n",
       "    </tr>\n",
       "    <tr>\n",
       "      <th>5116</th>\n",
       "      <td>COc1ccc(NC(=O)N2CCC[C@H](C(=O)c3cccc(C(F)(F)F)...</td>\n",
       "      <td>12458796</td>\n",
       "      <td>0.805970</td>\n",
       "      <td>-7.9</td>\n",
       "    </tr>\n",
       "    <tr>\n",
       "      <th>5117</th>\n",
       "      <td>Cc1ccc(C(C)C)c(OCC(=O)Nc2cc(C(F)(F)F)ccc2N2CCO...</td>\n",
       "      <td>1144533</td>\n",
       "      <td>0.811594</td>\n",
       "      <td>-7.9</td>\n",
       "    </tr>\n",
       "    <tr>\n",
       "      <th>5118</th>\n",
       "      <td>COc1ncc(Cl)c(N2CCN([C@@]3(C(N)=O)CCOC3)CC2)n1</td>\n",
       "      <td>886094629</td>\n",
       "      <td>0.819444</td>\n",
       "      <td>-8.2</td>\n",
       "    </tr>\n",
       "    <tr>\n",
       "      <th>5119</th>\n",
       "      <td>COc1ncc(Cl)c(N2CCN([C@]3(C(N)=O)CCOC3)CC2)n1</td>\n",
       "      <td>886094633</td>\n",
       "      <td>0.819444</td>\n",
       "      <td>-7.5</td>\n",
       "    </tr>\n",
       "  </tbody>\n",
       "</table>\n",
       "</div>"
      ],
      "text/plain": [
       "                                                 smiles    zinc_id  \\\n",
       "5115  COc1ccc2c(C)c(C(=O)N[C@@H]3CCCN(c4ccc(C(F)(F)F...   19720357   \n",
       "5116  COc1ccc(NC(=O)N2CCC[C@H](C(=O)c3cccc(C(F)(F)F)...   12458796   \n",
       "5117  Cc1ccc(C(C)C)c(OCC(=O)Nc2cc(C(F)(F)F)ccc2N2CCO...    1144533   \n",
       "5118      COc1ncc(Cl)c(N2CCN([C@@]3(C(N)=O)CCOC3)CC2)n1  886094629   \n",
       "5119       COc1ncc(Cl)c(N2CCN([C@]3(C(N)=O)CCOC3)CC2)n1  886094633   \n",
       "\n",
       "      tanimoto_similarity  docking_score  \n",
       "5115             0.830986           -6.7  \n",
       "5116             0.805970           -7.9  \n",
       "5117             0.811594           -7.9  \n",
       "5118             0.819444           -8.2  \n",
       "5119             0.819444           -7.5  "
      ]
     },
     "execution_count": 22,
     "metadata": {},
     "output_type": "execute_result"
    }
   ],
   "source": [
    "tanimoto_data.reset_index(drop=True, inplace=True)\n",
    "tanimoto_data.tail()"
   ]
  },
  {
   "cell_type": "code",
   "execution_count": null,
   "metadata": {},
   "outputs": [
    {
     "data": {
      "text/plain": [
       "70244"
      ]
     },
     "execution_count": 23,
     "metadata": {},
     "output_type": "execute_result"
    }
   ],
   "source": [
    "merge_data_with_lipinski_tanimoto_and_common = pd.concat([lipinski_data, tanimoto_data], axis=0)\n",
    "len(merge_data_with_lipinski_tanimoto_and_common)"
   ]
  },
  {
   "cell_type": "code",
   "execution_count": null,
   "metadata": {},
   "outputs": [],
   "source": [
    "merge_data_with_lipinski_tanimoto_and_common.to_csv(\"merge_data_with_lipinski_tanimoto_and_common.csv\")"
   ]
  },
  {
   "cell_type": "code",
   "execution_count": 17,
   "metadata": {},
   "outputs": [
    {
     "data": {
      "image/png": "[encoded data removed]",
      "text/plain": [
       "<Figure size 640x480 with 1 Axes>"
      ]
     },
     "metadata": {},
     "output_type": "display_data"
    }
   ],
   "source": [
    "sns.kdeplot(lipinski_data[\"docking_score\"],) # blue\n",
    "sns.kdeplot(tanimoto_data[\"docking_score\"],) # orange\n",
    "sns.kdeplot(common_data[\"docking_score_lipinski\"],) # green\n",
    "plt.title(\"Density plot of docking scores\")\n",
    "plt.xlabel(\"Affinity\")\n",
    "plt.ylabel(\"Density\")\n",
    "plt.savefig(\"docking_affinity_graph\")\n",
    "plt.show()"
   ]
  },
  {
   "cell_type": "code",
   "execution_count": 12,
   "metadata": {},
   "outputs": [
    {
     "data": {
      "image/png": "[encoded data removed]",
      "text/plain": [
       "<Figure size 640x480 with 1 Axes>"
      ]
     },
     "metadata": {},
     "output_type": "display_data"
    }
   ],
   "source": [
    "sns.kdeplot(lipinski_data[\"docking_score\"],) # blue\n",
    "sns.kdeplot(tanimoto_data[\"docking_score\"],) # orange\n",
    "sns.kdeplot(common_data[\"docking_score_lipinski\"],) # green\n",
    "plt.axvline(x=-7.3, color='red', linestyle='--', label='Threshold (-7.3)')\n",
    "plt.title(\"Density plot of docking scores\")\n",
    "plt.xlabel(\"Docking Score\")\n",
    "plt.ylabel(\"Density\")\n",
    "plt.legend(loc=\"upper left\", labels=[\"Common Group\", \"Tanimoto Group\", \"K-Means Group\"])\n",
    "plt.savefig(\"docking_density_graph.png\")\n",
    "plt.show()"
   ]
  },
  {
   "cell_type": "markdown",
   "metadata": {},
   "source": [
    "그래프 수정"
   ]
  },
  {
   "cell_type": "code",
   "execution_count": 19,
   "metadata": {},
   "outputs": [
    {
     "data": {
      "text/plain": [
       "<function matplotlib.pyplot.show(close=None, block=None)>"
      ]
     },
     "execution_count": 19,
     "metadata": {},
     "output_type": "execute_result"
    },
    {
     "data": {
      "image/png": "[encoded data removed]",
      "text/plain": [
       "<Figure size 1000x600 with 1 Axes>"
      ]
     },
     "metadata": {},
     "output_type": "display_data"
    }
   ],
   "source": [
    "lipinski_docking_score = lipinski_data[\"docking_score\"]\n",
    "lipinski_docking_score_df = pd.DataFrame({\"docking score\": lipinski_docking_score, \"Dataset\":\"Dataset1\"})\n",
    "\n",
    "tanimoto_docking_score = tanimoto_data[\"docking_score\"]\n",
    "tanimoto_docking_score_df = pd.DataFrame({\"docking score\": tanimoto_docking_score, \"Dataset\":\"Dataset2\"})\n",
    "\n",
    "common_data_docking_score = common_data[\"docking_score_lipinski\"]\n",
    "common_data_docking_score_df = pd.DataFrame({\"docking score\": common_data_docking_score, \"Dataset\":\"Dataset3\"})\n",
    "\n",
    "docking_score_df = pd.concat([lipinski_docking_score_df, tanimoto_docking_score_df, common_data_docking_score_df])\n",
    "\n",
    "plt.figure(figsize=(10, 6))\n",
    "sns.histplot(data=docking_score_df, x=\"docking score\", hue=\"Dataset\", stat=\"count\", common_norm=False, kde=True, multiple=\"stack\")\n",
    "plt.title(\"Docking Score Distribution\")\n",
    "plt.xlabel(\"Docking Score\")\n",
    "plt.ylabel(\"Count\")\n",
    "plt.legend(title=\"Dataset\", loc=\"upper left\", labels=[\"common_data_docking_score\", \"tanimoto_docking_score\", \"lipinski_docking_score\"])\n",
    "plt.savefig(\"docking_score_graph.png\")\n",
    "plt.show"
   ]
  },
  {
   "cell_type": "code",
   "execution_count": 13,
   "metadata": {},
   "outputs": [
    {
     "data": {
      "text/plain": [
       "<function matplotlib.pyplot.show(close=None, block=None)>"
      ]
     },
     "execution_count": 13,
     "metadata": {},
     "output_type": "execute_result"
    },
    {
     "data": {
      "image/png": "[encoded data removed]",
      "text/plain": [
       "<Figure size 1000x600 with 1 Axes>"
      ]
     },
     "metadata": {},
     "output_type": "display_data"
    }
   ],
   "source": [
    "lipinski_docking_score = lipinski_data[\"docking_score\"]\n",
    "lipinski_docking_score_df = pd.DataFrame({\"docking score\": lipinski_docking_score, \"Dataset\":\"Dataset1\"})\n",
    "\n",
    "tanimoto_docking_score = tanimoto_data[\"docking_score\"]\n",
    "tanimoto_docking_score_df = pd.DataFrame({\"docking score\": tanimoto_docking_score, \"Dataset\":\"Dataset2\"})\n",
    "\n",
    "common_data_docking_score = common_data[\"docking_score_lipinski\"]\n",
    "common_data_docking_score_df = pd.DataFrame({\"docking score\": common_data_docking_score, \"Dataset\":\"Dataset3\"})\n",
    "\n",
    "docking_score_df = pd.concat([lipinski_docking_score_df, tanimoto_docking_score_df, common_data_docking_score_df])\n",
    "\n",
    "plt.figure(figsize=(10, 6))\n",
    "sns.histplot(data=docking_score_df, x=\"docking score\", hue=\"Dataset\", stat=\"count\", common_norm=False, kde=True, multiple=\"stack\")\n",
    "plt.axvline(x=-7.3, color='red', linestyle='--', label='Threshold (-7.3)')\n",
    "plt.title(\"Docking Score Distribution\")\n",
    "plt.xlabel(\"Docking Score\")\n",
    "plt.ylabel(\"Count\")\n",
    "plt.legend(loc=\"upper left\", labels=[\"Common Group\", \"Tanimoto Group\", \"K-Means Group\"])\n",
    "plt.savefig(\"docking_score_graph.png\")\n",
    "plt.show"
   ]
  },
  {
   "cell_type": "code",
   "execution_count": 1,
   "metadata": {},
   "outputs": [],
   "source": [
    "import pandas as pd"
   ]
  },
  {
   "cell_type": "code",
   "execution_count": 2,
   "metadata": {},
   "outputs": [
    {
     "data": {
      "text/html": [
       "<div>\n",
       "<style scoped>\n",
       "    .dataframe tbody tr th:only-of-type {\n",
       "        vertical-align: middle;\n",
       "    }\n",
       "\n",
       "    .dataframe tbody tr th {\n",
       "        vertical-align: top;\n",
       "    }\n",
       "\n",
       "    .dataframe thead th {\n",
       "        text-align: right;\n",
       "    }\n",
       "</style>\n",
       "<table border=\"1\" class=\"dataframe\">\n",
       "  <thead>\n",
       "    <tr style=\"text-align: right;\">\n",
       "      <th></th>\n",
       "      <th>Unnamed: 0</th>\n",
       "      <th>smiles</th>\n",
       "      <th>zinc_id</th>\n",
       "      <th>MolWt</th>\n",
       "      <th>LogP</th>\n",
       "      <th>HDonors</th>\n",
       "      <th>HAcceptors</th>\n",
       "      <th>cluster</th>\n",
       "      <th>docking_score</th>\n",
       "      <th>Unnamed: 9</th>\n",
       "    </tr>\n",
       "  </thead>\n",
       "  <tbody>\n",
       "    <tr>\n",
       "      <th>0</th>\n",
       "      <td>0</td>\n",
       "      <td>Cc1ccc([C@@H]2C(C(=O)c3cc(C)ccc3C)=C(O)C(=O)N2...</td>\n",
       "      <td>20167026</td>\n",
       "      <td>448.563</td>\n",
       "      <td>3.91246</td>\n",
       "      <td>1.0</td>\n",
       "      <td>5.0</td>\n",
       "      <td>6.0</td>\n",
       "      <td>-7.5</td>\n",
       "      <td>NaN</td>\n",
       "    </tr>\n",
       "    <tr>\n",
       "      <th>1</th>\n",
       "      <td>1</td>\n",
       "      <td>C[C@@H]1CC=C[C@@H]2[C@@H]3O[C@]3(C)[C@H](C)[C@...</td>\n",
       "      <td>2332926187</td>\n",
       "      <td>449.591</td>\n",
       "      <td>3.71220</td>\n",
       "      <td>1.0</td>\n",
       "      <td>4.0</td>\n",
       "      <td>6.0</td>\n",
       "      <td>-8.4</td>\n",
       "      <td>NaN</td>\n",
       "    </tr>\n",
       "    <tr>\n",
       "      <th>2</th>\n",
       "      <td>2</td>\n",
       "      <td>COc1ccccc1/C=C1\\SC(Nc2ccccc2)=C(C(=O)NC2CCN(C)...</td>\n",
       "      <td>2080317858</td>\n",
       "      <td>449.576</td>\n",
       "      <td>3.88610</td>\n",
       "      <td>2.0</td>\n",
       "      <td>6.0</td>\n",
       "      <td>6.0</td>\n",
       "      <td>-8.0</td>\n",
       "      <td>NaN</td>\n",
       "    </tr>\n",
       "    <tr>\n",
       "      <th>3</th>\n",
       "      <td>3</td>\n",
       "      <td>C#CCOc1c(I)cc([C@H]2NC(=O)c3ccccc3O2)cc1OCC</td>\n",
       "      <td>12411410</td>\n",
       "      <td>449.244</td>\n",
       "      <td>3.52290</td>\n",
       "      <td>1.0</td>\n",
       "      <td>4.0</td>\n",
       "      <td>6.0</td>\n",
       "      <td>-7.1</td>\n",
       "      <td>NaN</td>\n",
       "    </tr>\n",
       "    <tr>\n",
       "      <th>4</th>\n",
       "      <td>4</td>\n",
       "      <td>C=C(C)CN1C(=O)N[C@@](CC)(C2CCN(C(=O)c3cc(C)nc4...</td>\n",
       "      <td>11782598</td>\n",
       "      <td>448.567</td>\n",
       "      <td>3.98054</td>\n",
       "      <td>1.0</td>\n",
       "      <td>4.0</td>\n",
       "      <td>6.0</td>\n",
       "      <td>-9.1</td>\n",
       "      <td>NaN</td>\n",
       "    </tr>\n",
       "  </tbody>\n",
       "</table>\n",
       "</div>"
      ],
      "text/plain": [
       "   Unnamed: 0                                             smiles     zinc_id  \\\n",
       "0           0  Cc1ccc([C@@H]2C(C(=O)c3cc(C)ccc3C)=C(O)C(=O)N2...    20167026   \n",
       "1           1  C[C@@H]1CC=C[C@@H]2[C@@H]3O[C@]3(C)[C@H](C)[C@...  2332926187   \n",
       "2           2  COc1ccccc1/C=C1\\SC(Nc2ccccc2)=C(C(=O)NC2CCN(C)...  2080317858   \n",
       "3           3        C#CCOc1c(I)cc([C@H]2NC(=O)c3ccccc3O2)cc1OCC    12411410   \n",
       "4           4  C=C(C)CN1C(=O)N[C@@](CC)(C2CCN(C(=O)c3cc(C)nc4...    11782598   \n",
       "\n",
       "     MolWt     LogP  HDonors  HAcceptors  cluster  docking_score  Unnamed: 9  \n",
       "0  448.563  3.91246      1.0         5.0      6.0           -7.5         NaN  \n",
       "1  449.591  3.71220      1.0         4.0      6.0           -8.4         NaN  \n",
       "2  449.576  3.88610      2.0         6.0      6.0           -8.0         NaN  \n",
       "3  449.244  3.52290      1.0         4.0      6.0           -7.1         NaN  \n",
       "4  448.567  3.98054      1.0         4.0      6.0           -9.1         NaN  "
      ]
     },
     "execution_count": 2,
     "metadata": {},
     "output_type": "execute_result"
    }
   ],
   "source": [
    "data = pd.read_csv(\"./merge_data_with_lipinski_tanimoto_and_common.csv\", index_col=False)\n",
    "data.head()"
   ]
  },
  {
   "cell_type": "code",
   "execution_count": 3,
   "metadata": {},
   "outputs": [
    {
     "data": {
      "text/html": [
       "<div>\n",
       "<style scoped>\n",
       "    .dataframe tbody tr th:only-of-type {\n",
       "        vertical-align: middle;\n",
       "    }\n",
       "\n",
       "    .dataframe tbody tr th {\n",
       "        vertical-align: top;\n",
       "    }\n",
       "\n",
       "    .dataframe thead th {\n",
       "        text-align: right;\n",
       "    }\n",
       "</style>\n",
       "<table border=\"1\" class=\"dataframe\">\n",
       "  <thead>\n",
       "    <tr style=\"text-align: right;\">\n",
       "      <th></th>\n",
       "      <th>smiles</th>\n",
       "      <th>zinc_id</th>\n",
       "      <th>MolWt</th>\n",
       "      <th>LogP</th>\n",
       "      <th>HDonors</th>\n",
       "      <th>HAcceptors</th>\n",
       "      <th>cluster</th>\n",
       "      <th>docking_score</th>\n",
       "      <th>Unnamed: 9</th>\n",
       "    </tr>\n",
       "  </thead>\n",
       "  <tbody>\n",
       "    <tr>\n",
       "      <th>0</th>\n",
       "      <td>Cc1ccc([C@@H]2C(C(=O)c3cc(C)ccc3C)=C(O)C(=O)N2...</td>\n",
       "      <td>20167026</td>\n",
       "      <td>448.563</td>\n",
       "      <td>3.91246</td>\n",
       "      <td>1.0</td>\n",
       "      <td>5.0</td>\n",
       "      <td>6.0</td>\n",
       "      <td>-7.5</td>\n",
       "      <td>NaN</td>\n",
       "    </tr>\n",
       "    <tr>\n",
       "      <th>1</th>\n",
       "      <td>C[C@@H]1CC=C[C@@H]2[C@@H]3O[C@]3(C)[C@H](C)[C@...</td>\n",
       "      <td>2332926187</td>\n",
       "      <td>449.591</td>\n",
       "      <td>3.71220</td>\n",
       "      <td>1.0</td>\n",
       "      <td>4.0</td>\n",
       "      <td>6.0</td>\n",
       "      <td>-8.4</td>\n",
       "      <td>NaN</td>\n",
       "    </tr>\n",
       "    <tr>\n",
       "      <th>2</th>\n",
       "      <td>COc1ccccc1/C=C1\\SC(Nc2ccccc2)=C(C(=O)NC2CCN(C)...</td>\n",
       "      <td>2080317858</td>\n",
       "      <td>449.576</td>\n",
       "      <td>3.88610</td>\n",
       "      <td>2.0</td>\n",
       "      <td>6.0</td>\n",
       "      <td>6.0</td>\n",
       "      <td>-8.0</td>\n",
       "      <td>NaN</td>\n",
       "    </tr>\n",
       "    <tr>\n",
       "      <th>3</th>\n",
       "      <td>C#CCOc1c(I)cc([C@H]2NC(=O)c3ccccc3O2)cc1OCC</td>\n",
       "      <td>12411410</td>\n",
       "      <td>449.244</td>\n",
       "      <td>3.52290</td>\n",
       "      <td>1.0</td>\n",
       "      <td>4.0</td>\n",
       "      <td>6.0</td>\n",
       "      <td>-7.1</td>\n",
       "      <td>NaN</td>\n",
       "    </tr>\n",
       "    <tr>\n",
       "      <th>4</th>\n",
       "      <td>C=C(C)CN1C(=O)N[C@@](CC)(C2CCN(C(=O)c3cc(C)nc4...</td>\n",
       "      <td>11782598</td>\n",
       "      <td>448.567</td>\n",
       "      <td>3.98054</td>\n",
       "      <td>1.0</td>\n",
       "      <td>4.0</td>\n",
       "      <td>6.0</td>\n",
       "      <td>-9.1</td>\n",
       "      <td>NaN</td>\n",
       "    </tr>\n",
       "  </tbody>\n",
       "</table>\n",
       "</div>"
      ],
      "text/plain": [
       "                                              smiles     zinc_id    MolWt  \\\n",
       "0  Cc1ccc([C@@H]2C(C(=O)c3cc(C)ccc3C)=C(O)C(=O)N2...    20167026  448.563   \n",
       "1  C[C@@H]1CC=C[C@@H]2[C@@H]3O[C@]3(C)[C@H](C)[C@...  2332926187  449.591   \n",
       "2  COc1ccccc1/C=C1\\SC(Nc2ccccc2)=C(C(=O)NC2CCN(C)...  2080317858  449.576   \n",
       "3        C#CCOc1c(I)cc([C@H]2NC(=O)c3ccccc3O2)cc1OCC    12411410  449.244   \n",
       "4  C=C(C)CN1C(=O)N[C@@](CC)(C2CCN(C(=O)c3cc(C)nc4...    11782598  448.567   \n",
       "\n",
       "      LogP  HDonors  HAcceptors  cluster  docking_score  Unnamed: 9  \n",
       "0  3.91246      1.0         5.0      6.0           -7.5         NaN  \n",
       "1  3.71220      1.0         4.0      6.0           -8.4         NaN  \n",
       "2  3.88610      2.0         6.0      6.0           -8.0         NaN  \n",
       "3  3.52290      1.0         4.0      6.0           -7.1         NaN  \n",
       "4  3.98054      1.0         4.0      6.0           -9.1         NaN  "
      ]
     },
     "execution_count": 3,
     "metadata": {},
     "output_type": "execute_result"
    }
   ],
   "source": [
    "data.drop(columns=[\"Unnamed: 0\"], inplace=True)\n",
    "data.head()"
   ]
  },
  {
   "cell_type": "code",
   "execution_count": 4,
   "metadata": {},
   "outputs": [
    {
     "name": "stdout",
     "output_type": "stream",
     "text": [
      "70244\n"
     ]
    }
   ],
   "source": [
    "print(len(data))"
   ]
  },
  {
   "cell_type": "code",
   "execution_count": 5,
   "metadata": {},
   "outputs": [
    {
     "data": {
      "text/plain": [
       "-3.4"
      ]
     },
     "execution_count": 5,
     "metadata": {},
     "output_type": "execute_result"
    }
   ],
   "source": [
    "max = data[\"docking_score\"].max()\n",
    "max"
   ]
  },
  {
   "cell_type": "code",
   "execution_count": 6,
   "metadata": {},
   "outputs": [
    {
     "data": {
      "text/plain": [
       "-12.0"
      ]
     },
     "execution_count": 6,
     "metadata": {},
     "output_type": "execute_result"
    }
   ],
   "source": [
    "min = data[\"docking_score\"].min()\n",
    "min"
   ]
  },
  {
   "cell_type": "code",
   "execution_count": 7,
   "metadata": {},
   "outputs": [
    {
     "data": {
      "text/plain": [
       "-7.929652354649507"
      ]
     },
     "execution_count": 7,
     "metadata": {},
     "output_type": "execute_result"
    }
   ],
   "source": [
    "average = data[\"docking_score\"].mean()\n",
    "average"
   ]
  },
  {
   "cell_type": "code",
   "execution_count": 9,
   "metadata": {},
   "outputs": [
    {
     "data": {
      "text/html": [
       "<div>\n",
       "<style scoped>\n",
       "    .dataframe tbody tr th:only-of-type {\n",
       "        vertical-align: middle;\n",
       "    }\n",
       "\n",
       "    .dataframe tbody tr th {\n",
       "        vertical-align: top;\n",
       "    }\n",
       "\n",
       "    .dataframe thead th {\n",
       "        text-align: right;\n",
       "    }\n",
       "</style>\n",
       "<table border=\"1\" class=\"dataframe\">\n",
       "  <thead>\n",
       "    <tr style=\"text-align: right;\">\n",
       "      <th></th>\n",
       "      <th>Unnamed: 0</th>\n",
       "      <th>smiles</th>\n",
       "      <th>zinc_id</th>\n",
       "      <th>MolWt</th>\n",
       "      <th>LogP</th>\n",
       "      <th>HDonors</th>\n",
       "      <th>HAcceptors</th>\n",
       "      <th>cluster</th>\n",
       "      <th>docking_score_lipinski</th>\n",
       "      <th>tanimoto_similarity</th>\n",
       "      <th>docking_score_tanimoto</th>\n",
       "    </tr>\n",
       "  </thead>\n",
       "  <tbody>\n",
       "    <tr>\n",
       "      <th>0</th>\n",
       "      <td>0</td>\n",
       "      <td>COc1ccc(C2(C(=O)N3CCN(c4ccc(C(F)(F)F)cn4)CC3)C...</td>\n",
       "      <td>72402142</td>\n",
       "      <td>449.473</td>\n",
       "      <td>3.5060</td>\n",
       "      <td>0</td>\n",
       "      <td>5</td>\n",
       "      <td>6</td>\n",
       "      <td>-7.2</td>\n",
       "      <td>0.803030</td>\n",
       "      <td>-7.8</td>\n",
       "    </tr>\n",
       "    <tr>\n",
       "      <th>1</th>\n",
       "      <td>1</td>\n",
       "      <td>CC(=O)c1ccc(OCCCC(=O)Nc2cc(C(F)(F)F)ccc2N2CCOC...</td>\n",
       "      <td>9632279</td>\n",
       "      <td>450.457</td>\n",
       "      <td>4.5423</td>\n",
       "      <td>1</td>\n",
       "      <td>5</td>\n",
       "      <td>6</td>\n",
       "      <td>-8.1</td>\n",
       "      <td>0.850746</td>\n",
       "      <td>-7.9</td>\n",
       "    </tr>\n",
       "    <tr>\n",
       "      <th>2</th>\n",
       "      <td>2</td>\n",
       "      <td>C/C=C/c1ccc(OCC(=O)Nc2cc(C(F)(F)F)ccc2N2CCOCC2...</td>\n",
       "      <td>15940645</td>\n",
       "      <td>450.457</td>\n",
       "      <td>4.6012</td>\n",
       "      <td>1</td>\n",
       "      <td>5</td>\n",
       "      <td>6</td>\n",
       "      <td>-8.7</td>\n",
       "      <td>0.826087</td>\n",
       "      <td>-7.9</td>\n",
       "    </tr>\n",
       "    <tr>\n",
       "      <th>3</th>\n",
       "      <td>3</td>\n",
       "      <td>O=C(CN(Cc1ccco1)C1CCCC1)Nc1cc(C(F)(F)F)ccc1N1C...</td>\n",
       "      <td>58010304</td>\n",
       "      <td>451.489</td>\n",
       "      <td>4.5183</td>\n",
       "      <td>1</td>\n",
       "      <td>5</td>\n",
       "      <td>6</td>\n",
       "      <td>-8.0</td>\n",
       "      <td>0.815385</td>\n",
       "      <td>-5.9</td>\n",
       "    </tr>\n",
       "    <tr>\n",
       "      <th>4</th>\n",
       "      <td>4</td>\n",
       "      <td>COc1ccccc1NC(=O)N1CCC(CNC(=O)Nc2cccc(C(F)(F)F)...</td>\n",
       "      <td>44005198</td>\n",
       "      <td>450.461</td>\n",
       "      <td>4.7796</td>\n",
       "      <td>3</td>\n",
       "      <td>3</td>\n",
       "      <td>6</td>\n",
       "      <td>-8.3</td>\n",
       "      <td>0.805970</td>\n",
       "      <td>-7.5</td>\n",
       "    </tr>\n",
       "  </tbody>\n",
       "</table>\n",
       "</div>"
      ],
      "text/plain": [
       "   Unnamed: 0                                             smiles   zinc_id  \\\n",
       "0           0  COc1ccc(C2(C(=O)N3CCN(c4ccc(C(F)(F)F)cn4)CC3)C...  72402142   \n",
       "1           1  CC(=O)c1ccc(OCCCC(=O)Nc2cc(C(F)(F)F)ccc2N2CCOC...   9632279   \n",
       "2           2  C/C=C/c1ccc(OCC(=O)Nc2cc(C(F)(F)F)ccc2N2CCOCC2...  15940645   \n",
       "3           3  O=C(CN(Cc1ccco1)C1CCCC1)Nc1cc(C(F)(F)F)ccc1N1C...  58010304   \n",
       "4           4  COc1ccccc1NC(=O)N1CCC(CNC(=O)Nc2cccc(C(F)(F)F)...  44005198   \n",
       "\n",
       "     MolWt    LogP  HDonors  HAcceptors  cluster  docking_score_lipinski  \\\n",
       "0  449.473  3.5060        0           5        6                    -7.2   \n",
       "1  450.457  4.5423        1           5        6                    -8.1   \n",
       "2  450.457  4.6012        1           5        6                    -8.7   \n",
       "3  451.489  4.5183        1           5        6                    -8.0   \n",
       "4  450.461  4.7796        3           3        6                    -8.3   \n",
       "\n",
       "   tanimoto_similarity  docking_score_tanimoto  \n",
       "0             0.803030                    -7.8  \n",
       "1             0.850746                    -7.9  \n",
       "2             0.826087                    -7.9  \n",
       "3             0.815385                    -5.9  \n",
       "4             0.805970                    -7.5  "
      ]
     },
     "execution_count": 9,
     "metadata": {},
     "output_type": "execute_result"
    }
   ],
   "source": [
    "common_data = pd.read_csv(\"final_common_data_between_lipinski_and_tanimoto.csv\")\n",
    "common_data.head()"
   ]
  },
  {
   "cell_type": "code",
   "execution_count": 10,
   "metadata": {},
   "outputs": [
    {
     "data": {
      "text/html": [
       "<div>\n",
       "<style scoped>\n",
       "    .dataframe tbody tr th:only-of-type {\n",
       "        vertical-align: middle;\n",
       "    }\n",
       "\n",
       "    .dataframe tbody tr th {\n",
       "        vertical-align: top;\n",
       "    }\n",
       "\n",
       "    .dataframe thead th {\n",
       "        text-align: right;\n",
       "    }\n",
       "</style>\n",
       "<table border=\"1\" class=\"dataframe\">\n",
       "  <thead>\n",
       "    <tr style=\"text-align: right;\">\n",
       "      <th></th>\n",
       "      <th>smiles</th>\n",
       "      <th>zinc_id</th>\n",
       "      <th>MolWt</th>\n",
       "      <th>LogP</th>\n",
       "      <th>HDonors</th>\n",
       "      <th>HAcceptors</th>\n",
       "      <th>cluster</th>\n",
       "      <th>docking_score_lipinski</th>\n",
       "      <th>tanimoto_similarity</th>\n",
       "      <th>docking_score_tanimoto</th>\n",
       "    </tr>\n",
       "  </thead>\n",
       "  <tbody>\n",
       "    <tr>\n",
       "      <th>0</th>\n",
       "      <td>COc1ccc(C2(C(=O)N3CCN(c4ccc(C(F)(F)F)cn4)CC3)C...</td>\n",
       "      <td>72402142</td>\n",
       "      <td>449.473</td>\n",
       "      <td>3.5060</td>\n",
       "      <td>0</td>\n",
       "      <td>5</td>\n",
       "      <td>6</td>\n",
       "      <td>-7.2</td>\n",
       "      <td>0.803030</td>\n",
       "      <td>-7.8</td>\n",
       "    </tr>\n",
       "    <tr>\n",
       "      <th>1</th>\n",
       "      <td>CC(=O)c1ccc(OCCCC(=O)Nc2cc(C(F)(F)F)ccc2N2CCOC...</td>\n",
       "      <td>9632279</td>\n",
       "      <td>450.457</td>\n",
       "      <td>4.5423</td>\n",
       "      <td>1</td>\n",
       "      <td>5</td>\n",
       "      <td>6</td>\n",
       "      <td>-8.1</td>\n",
       "      <td>0.850746</td>\n",
       "      <td>-7.9</td>\n",
       "    </tr>\n",
       "    <tr>\n",
       "      <th>2</th>\n",
       "      <td>C/C=C/c1ccc(OCC(=O)Nc2cc(C(F)(F)F)ccc2N2CCOCC2...</td>\n",
       "      <td>15940645</td>\n",
       "      <td>450.457</td>\n",
       "      <td>4.6012</td>\n",
       "      <td>1</td>\n",
       "      <td>5</td>\n",
       "      <td>6</td>\n",
       "      <td>-8.7</td>\n",
       "      <td>0.826087</td>\n",
       "      <td>-7.9</td>\n",
       "    </tr>\n",
       "    <tr>\n",
       "      <th>3</th>\n",
       "      <td>O=C(CN(Cc1ccco1)C1CCCC1)Nc1cc(C(F)(F)F)ccc1N1C...</td>\n",
       "      <td>58010304</td>\n",
       "      <td>451.489</td>\n",
       "      <td>4.5183</td>\n",
       "      <td>1</td>\n",
       "      <td>5</td>\n",
       "      <td>6</td>\n",
       "      <td>-8.0</td>\n",
       "      <td>0.815385</td>\n",
       "      <td>-5.9</td>\n",
       "    </tr>\n",
       "    <tr>\n",
       "      <th>4</th>\n",
       "      <td>COc1ccccc1NC(=O)N1CCC(CNC(=O)Nc2cccc(C(F)(F)F)...</td>\n",
       "      <td>44005198</td>\n",
       "      <td>450.461</td>\n",
       "      <td>4.7796</td>\n",
       "      <td>3</td>\n",
       "      <td>3</td>\n",
       "      <td>6</td>\n",
       "      <td>-8.3</td>\n",
       "      <td>0.805970</td>\n",
       "      <td>-7.5</td>\n",
       "    </tr>\n",
       "  </tbody>\n",
       "</table>\n",
       "</div>"
      ],
      "text/plain": [
       "                                              smiles   zinc_id    MolWt  \\\n",
       "0  COc1ccc(C2(C(=O)N3CCN(c4ccc(C(F)(F)F)cn4)CC3)C...  72402142  449.473   \n",
       "1  CC(=O)c1ccc(OCCCC(=O)Nc2cc(C(F)(F)F)ccc2N2CCOC...   9632279  450.457   \n",
       "2  C/C=C/c1ccc(OCC(=O)Nc2cc(C(F)(F)F)ccc2N2CCOCC2...  15940645  450.457   \n",
       "3  O=C(CN(Cc1ccco1)C1CCCC1)Nc1cc(C(F)(F)F)ccc1N1C...  58010304  451.489   \n",
       "4  COc1ccccc1NC(=O)N1CCC(CNC(=O)Nc2cccc(C(F)(F)F)...  44005198  450.461   \n",
       "\n",
       "     LogP  HDonors  HAcceptors  cluster  docking_score_lipinski  \\\n",
       "0  3.5060        0           5        6                    -7.2   \n",
       "1  4.5423        1           5        6                    -8.1   \n",
       "2  4.6012        1           5        6                    -8.7   \n",
       "3  4.5183        1           5        6                    -8.0   \n",
       "4  4.7796        3           3        6                    -8.3   \n",
       "\n",
       "   tanimoto_similarity  docking_score_tanimoto  \n",
       "0             0.803030                    -7.8  \n",
       "1             0.850746                    -7.9  \n",
       "2             0.826087                    -7.9  \n",
       "3             0.815385                    -5.9  \n",
       "4             0.805970                    -7.5  "
      ]
     },
     "execution_count": 10,
     "metadata": {},
     "output_type": "execute_result"
    }
   ],
   "source": [
    "common_data.drop(columns=[\"Unnamed: 0\"], inplace=True)\n",
    "common_data.head()"
   ]
  },
  {
   "cell_type": "code",
   "execution_count": 11,
   "metadata": {},
   "outputs": [
    {
     "data": {
      "text/plain": [
       "39"
      ]
     },
     "execution_count": 11,
     "metadata": {},
     "output_type": "execute_result"
    }
   ],
   "source": [
    "len(common_data)"
   ]
  },
  {
   "cell_type": "code",
   "execution_count": 12,
   "metadata": {},
   "outputs": [
    {
     "name": "stdout",
     "output_type": "stream",
     "text": [
      "-5.3 -5.9\n",
      "-8.8 -9.2\n",
      "-7.735897435897434 -7.87948717948718\n"
     ]
    }
   ],
   "source": [
    "common_lipinski_max = common_data[\"docking_score_lipinski\"].max()\n",
    "common_tanimoto_max = common_data[\"docking_score_tanimoto\"].max()\n",
    "\n",
    "common_lipinski_min = common_data[\"docking_score_lipinski\"].min()\n",
    "common_tanimoto_min = common_data[\"docking_score_tanimoto\"].min()\n",
    "\n",
    "common_lipinski_average = common_data[\"docking_score_lipinski\"].mean()\n",
    "common_tanimoto_average = common_data[\"docking_score_tanimoto\"].mean()\n",
    "\n",
    "print(common_lipinski_max, common_tanimoto_max)\n",
    "print(common_lipinski_min, common_tanimoto_min)\n",
    "print(common_lipinski_average, common_tanimoto_average)"
   ]
  },
  {
   "cell_type": "code",
   "execution_count": 5,
   "metadata": {},
   "outputs": [],
   "source": [
    "better_score_than_zn27 = []\n",
    "\n",
    "for i in range(len(data)):\n",
    "    if data[\"docking_score\"][i] < -7.3:\n",
    "        better_score_than_zn27.append(data[\"docking_score\"][i])"
   ]
  },
  {
   "cell_type": "code",
   "execution_count": 6,
   "metadata": {},
   "outputs": [
    {
     "data": {
      "text/plain": [
       "55462"
      ]
     },
     "execution_count": 6,
     "metadata": {},
     "output_type": "execute_result"
    }
   ],
   "source": [
    "len(better_score_than_zn27)"
   ]
  },
  {
   "cell_type": "code",
   "execution_count": 9,
   "metadata": {},
   "outputs": [
    {
     "data": {
      "text/plain": [
       "78.95620978304197"
      ]
     },
     "execution_count": 9,
     "metadata": {},
     "output_type": "execute_result"
    }
   ],
   "source": [
    "(len(better_score_than_zn27)/len(data))*100"
   ]
  },
  {
   "cell_type": "code",
   "execution_count": null,
   "metadata": {},
   "outputs": [],
   "source": []
  }
 ],
 "metadata": {
  "kernelspec": {
   "display_name": "huntington",
   "language": "python",
   "name": "python3"
  },
  "language_info": {
   "codemirror_mode": {
    "name": "ipython",
    "version": 3
   },
   "file_extension": ".py",
   "mimetype": "text/x-python",
   "name": "python",
   "nbconvert_exporter": "python",
   "pygments_lexer": "ipython3",
   "version": "3.8.18"
  }
 },
 "nbformat": 4,
 "nbformat_minor": 2
}
